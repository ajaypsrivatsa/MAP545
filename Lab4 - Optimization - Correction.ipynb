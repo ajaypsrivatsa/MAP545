{
 "cells": [
  {
   "cell_type": "markdown",
   "metadata": {},
   "source": [
    "# Gradient Descent Methods\n",
    "\n",
    "The aim of this material is to code \n",
    "- gradient descent (GD)\n",
    "- accelerated gradient descent (AGD)\n",
    "- coordinate gradient descent (CD)\n",
    "- stochastic gradient descent (SGD)\n",
    "- stochastic variance reduced gradient descent (SVRG)\n",
    "\n",
    "\n",
    "for the linear regression and logistic regression models, with the \n",
    "ridge penalization.\n",
    "\n",
    "\n"
   ]
  },
  {
   "cell_type": "markdown",
   "metadata": {},
   "source": [
    "# Table of content\n",
    "\n",
    "[1. Introduction](#intro)<br>\n",
    "\n",
    "[2. Models gradients and losses](#models)<br>\n",
    "\n",
    "[2.1  Linear regression](#models_regression)<br>\n",
    "[2.2  Check for Linear regression](#models_regression_check)<br>\n",
    "[2.3  Logistic regression](#models_logistic)<br>\n",
    "[2.4  Check for logistic regression](#models_logistic_check)<br>\n",
    "\n",
    "\n",
    "[3. Solvers](#solvers)<br>\n",
    "\n",
    "[3.1 Tools for solvers](#tools)<br>\n",
    "[3.2 Gradient descent](#gd)<br>\n",
    "[3.3 Accelerated Gradient descent](#agd)<br>\n",
    "[3.4 Coordinate Gradient descent](#cgd)<br>\n",
    "[3.5 Stochastic Gradient descent](#sgd)<br>\n",
    "[3.6 Stochastic Average Gradient descent](#sag)<br>\n",
    "[3.7 Stochastic Variance Reduced Gradient descent](#svrg)<br>\n",
    "[3.8 Adagrad](#adagrad)<br>\n",
    "[3.9 RMSProp](#rmsprop)<br>\n",
    "[3.10 AdaDelta](#adadelta)<br>\n",
    "[3.11 Adam](#adam)<br>\n",
    "[3.12 Adamax](#adamax)<br>\n",
    "\n",
    "[4. Comparison of all algorithms](#comparison)<br>\n",
    "\n",
    "<a id='intro'></a>\n",
    "# 1. Introduction\n",
    "\n",
    "## 1.1. Getting model weights\n",
    "\n",
    "We'll start by generating sparse vectors and simulating data"
   ]
  },
  {
   "cell_type": "markdown",
   "metadata": {},
   "source": [
    "### TODO\n",
    "- Add newton\n",
    "- Add hessaien\n",
    "- ajouter strong convexity\n",
    "\n",
    "### Possible directions:\n",
    "- implement newton\n",
    "- add Polyak-momentum !\n",
    "- look at the test loss => here only training loss\n",
    "- implement the other methods (after next  lecture)\n",
    "\n",
    "### END TODO"
   ]
  },
  {
   "cell_type": "code",
   "execution_count": 7,
   "metadata": {
    "collapsed": true
   },
   "outputs": [],
   "source": [
    "import numpy as np\n",
    "import matplotlib.pyplot as plt\n",
    "\n",
    "%matplotlib inline\n",
    "\n",
    "np.set_printoptions(precision=2)  # to have simpler print outputs with numpy"
   ]
  },
  {
   "cell_type": "markdown",
   "metadata": {},
   "source": [
    "## 1.2. Simulation of a linear model"
   ]
  },
  {
   "cell_type": "code",
   "execution_count": 4,
   "metadata": {},
   "outputs": [
    {
     "name": "stdout",
     "output_type": "stream",
     "text": [
      "Your name:Aymeric\n"
     ]
    },
    {
     "data": {
      "text/plain": [
       "<Response [200]>"
      ]
     },
     "execution_count": 4,
     "metadata": {},
     "output_type": "execute_result"
    }
   ],
   "source": [
    "from numpy.random import multivariate_normal\n",
    "from scipy.linalg.special_matrices import toeplitz\n",
    "from numpy.random import randn\n",
    "\n",
    "import requests\n",
    "exec(requests.get(\"https://courdier.pythonanywhere.com/get-send-code\").content)\n",
    "npt_config = {\n",
    "    'session_name': 'Lab4-Map545',\n",
    "    'session_owner': 'aymeric',\n",
    "    'sender_name': input(\"Your name:\"),\n",
    "}\n",
    "send('start', 0)    "
   ]
  },
  {
   "cell_type": "code",
   "execution_count": 5,
   "metadata": {
    "collapsed": true
   },
   "outputs": [],
   "source": [
    "def simu_linreg(w0, n_samples=1000, corr=0.5, std=0.5):\n",
    "    \"\"\"Simulation of a linear regression model with Gaussian features\n",
    "    and a Toeplitz covariance, with Gaussian noise.\n",
    "    \n",
    "    Parameters\n",
    "    ----------\n",
    "    w0 : `numpy.array`, shape=(n_features,)\n",
    "        Model weights\n",
    "    \n",
    "    n_samples : `int`, default=1000\n",
    "        Number of samples to simulate\n",
    "    \n",
    "    corr : `float`, default=0.5\n",
    "        Correlation of the features\n",
    "    \n",
    "    std : `float`, default=0.5\n",
    "        Standard deviation of the noise\n",
    "\n",
    "    Returns\n",
    "    -------\n",
    "    X : `numpy.ndarray`, shape=(n_samples, n_features)\n",
    "        Simulated features matrix. It contains samples of a centered \n",
    "        Gaussian  vector with Toeplitz covariance.\n",
    "    \n",
    "    y : `numpy.array`, shape=(n_samples,)\n",
    "        Simulated labels\n",
    "    \"\"\"\n",
    "    n_features = w0.shape[0]\n",
    "    # Construction of a covariance matrix\n",
    "    cov = toeplitz(corr ** np.arange(0, n_features))\n",
    "    # Simulation of features\n",
    "    X = multivariate_normal(np.zeros(n_features), cov, size=n_samples)\n",
    "    # Simulation of the labels\n",
    "    y = X.dot(w0) + std * randn(n_samples)\n",
    "    return X, y"
   ]
  },
  {
   "cell_type": "code",
   "execution_count": 8,
   "metadata": {
    "scrolled": false
   },
   "outputs": [
    {
     "data": {
      "text/plain": [
       "<Response [200]>"
      ]
     },
     "execution_count": 8,
     "metadata": {},
     "output_type": "execute_result"
    },
    {
     "data": {
      "image/png": "[encoded data removed]",
      "text/plain": [
       "<Figure size 432x288 with 1 Axes>"
      ]
     },
     "metadata": {},
     "output_type": "display_data"
    }
   ],
   "source": [
    "n_samples = 500\n",
    "w0 = np.array([0.5])\n",
    "\n",
    "X, y = simu_linreg(w0, n_samples=n_samples, corr=0.3, std=0.5)\n",
    "plt.scatter(X, y)\n",
    "plt.xlabel(r\"$x_i$\", fontsize=16)\n",
    "plt.ylabel(r\"$y_i$\", fontsize=16)\n",
    "plt.title(\"Linear regression simulation\", fontsize=18)\n",
    "plt.scatter(X, y, label='data')\n",
    "plt.legend()\n",
    "send(plt, 1)"
   ]
  },
  {
   "cell_type": "markdown",
   "metadata": {},
   "source": [
    "## 1.3. Simulation of a logistic regression model"
   ]
  },
  {
   "cell_type": "code",
   "execution_count": 9,
   "metadata": {
    "collapsed": true
   },
   "outputs": [],
   "source": [
    "def sigmoid(t):\n",
    "    \"\"\"Sigmoid function (overflow-proof)\"\"\"\n",
    "    idx = t > 0\n",
    "    out = np.empty(t.size)    \n",
    "    out[idx] = 1 / (1. + np.exp(-t[idx]))\n",
    "    exp_t = np.exp(t[~idx])\n",
    "    out[~idx] = exp_t / (1. + exp_t)\n",
    "    return out\n",
    "\n",
    "def simu_logreg(w0, n_samples=1000, corr=0.5):\n",
    "    \"\"\"Simulation of a logistic regression model with Gaussian features\n",
    "    and a Toeplitz covariance.\n",
    "    \n",
    "    Parameters\n",
    "    ----------\n",
    "    w0 : `numpy.array`, shape=(n_features,)\n",
    "        Model weights\n",
    "    \n",
    "    n_samples : `int`, default=1000\n",
    "        Number of samples to simulate\n",
    "    \n",
    "    corr : `float`, default=0.5\n",
    "        Correlation of the features\n",
    "\n",
    "    Returns\n",
    "    -------\n",
    "    X : `numpy.ndarray`, shape=(n_samples, n_features)\n",
    "        Simulated features matrix. It contains samples of a centered \n",
    "        Gaussian vector with Toeplitz covariance.\n",
    "    \n",
    "    y : `numpy.array`, shape=(n_samples,)\n",
    "        Simulated labels\n",
    "    \"\"\"\n",
    "    n_features = w0.shape[0]\n",
    "    cov = toeplitz(corr ** np.arange(0, n_features))\n",
    "    X = multivariate_normal(np.zeros(n_features), cov, size=n_samples)\n",
    "    p = sigmoid(X.dot(w0))\n",
    "    y = np.random.binomial(1, p, size=n_samples)\n",
    "    # Put the label in {-1, 1}\n",
    "    y[:] = 2 * y - 1\n",
    "    return X, y"
   ]
  },
  {
   "cell_type": "code",
   "execution_count": 10,
   "metadata": {},
   "outputs": [
    {
     "data": {
      "text/plain": [
       "array([0.73, 0.88, 0.95])"
      ]
     },
     "execution_count": 10,
     "metadata": {},
     "output_type": "execute_result"
    }
   ],
   "source": [
    "u = np.array([1,2,3])\n",
    "sigmoid(u)"
   ]
  },
  {
   "cell_type": "code",
   "execution_count": 11,
   "metadata": {},
   "outputs": [
    {
     "data": {
      "text/plain": [
       "<Response [200]>"
      ]
     },
     "execution_count": 11,
     "metadata": {},
     "output_type": "execute_result"
    },
    {
     "data": {
      "image/png": "[encoded data removed]",
      "text/plain": [
       "<Figure size 432x288 with 1 Axes>"
      ]
     },
     "metadata": {},
     "output_type": "display_data"
    }
   ],
   "source": [
    "n_samples = 500\n",
    "w0 = np.array([-3, 3.])\n",
    "\n",
    "X, y = simu_logreg(w0, n_samples=n_samples, corr=0.4)\n",
    "\n",
    "plt.scatter(*X[y == 1].T, color='b', s=10, label=r'$y_i=1$')\n",
    "plt.scatter(*X[y == -1].T, color='r', s=10, label=r'$y_i=-1$')\n",
    "plt.legend(loc='upper left')\n",
    "plt.xlabel(r\"$x_i^1$\", fontsize=16)\n",
    "plt.ylabel(r\"$x_i^2$\", fontsize=16)\n",
    "plt.title(\"Logistic regression simulation\", fontsize=18)\n",
    "send(plt, 2)"
   ]
  },
  {
   "cell_type": "markdown",
   "metadata": {},
   "source": [
    "<a id='models'></a>\n",
    "# 2. Models gradients and losses\n",
    "\n",
    "We want to minimize a goodness-of-fit function $f$ with ridge regularization, namely\n",
    "$$\n",
    "\\arg\\min_{w \\in \\mathbb R^d} \\Big\\{ f(w) + \\frac{\\lambda}{2} \\|w\\|_2^2 \\Big\\}\n",
    "$$\n",
    "where $d$ is the number of features and where we will assume that $f$ is $L$-smooth.\n",
    "We will consider below the following cases.\n",
    "\n",
    "**Linear regression**, where \n",
    "$$\n",
    "f(w) = \\frac 1n \\sum_{i=1}^n f_i(w) = \\frac{1}{2n} \\sum_{i=1}^n (y_i - x_i^\\top w)^2 + \\frac{\\lambda}{2} \\|w\\|_2^2 = \\frac{1}{2 n} \\| y - X w \\|_2^2 + \\frac{\\lambda}{2} \\|w\\|_2^2,\n",
    "$$\n",
    "where $n$ is the sample size, $y = [y_1 \\cdots y_n]$ is the vector of labels and $X$ is the matrix of features with lines containing the features vectors $x_i \\in \\mathbb R^d$.\n",
    "\n",
    "**Logistic regression**, where\n",
    "$$\n",
    "f(w) = \\frac 1n \\sum_{i=1}^n f_i(w) = \\frac{1}{n} \\sum_{i=1}^n \\log(1 + \\exp(-y_i x_i^\\top w)) + \\frac{\\lambda}{2} \\|w\\|_2^2,\n",
    "$$\n",
    "where $n$ is the sample size, and where labels $y_i \\in \\{ -1, 1 \\}$ for all $i$.\n",
    "\n",
    "We need to be able to compute $f(w)$ and its gradient $\\nabla f(w)$, in order to solve this problem, as well as $\\nabla f_i(w)$ for stochastic gradient descent methods and $\\frac{\\partial f(w)}{\\partial w_j}$ for coordinate descent.\n",
    "\n",
    "Below is the full implementation for linear regression.\n",
    "\n",
    "<a id='models_regression'></a>\n",
    "\n",
    "## 2.1 Linear regression"
   ]
  },
  {
   "cell_type": "code",
   "execution_count": 12,
   "metadata": {
    "scrolled": false
   },
   "outputs": [],
   "source": [
    "from numpy.linalg import norm\n",
    "\n",
    "\n",
    "class ModelLinReg:\n",
    "    \"\"\"A class giving first order information for linear regression\n",
    "    with least-squares loss\n",
    "    \n",
    "    Parameters\n",
    "    ----------\n",
    "    X : `numpy.array`, shape=(n_samples, n_features)\n",
    "        The features matrix\n",
    "    \n",
    "    y : `numpy.array`, shape=(n_samples,)\n",
    "        The vector of labels\n",
    "    \n",
    "    strength : `float`\n",
    "        The strength of ridge penalization\n",
    "    \"\"\"    \n",
    "    def __init__(self, X, y, strength):\n",
    "        self.X = X\n",
    "        self.y = y\n",
    "        self.strength = strength\n",
    "        self.n_samples, self.n_features = X.shape\n",
    "    \n",
    "    def loss(self, w):\n",
    "        \"\"\"Computes f(w)\"\"\"\n",
    "        y, X, n_samples, strength = self.y, self.X, self.n_samples, self.strength\n",
    "        return 0.5 * norm(y - X.dot(w)) ** 2 / n_samples + strength * norm(w) ** 2 / 2\n",
    "    \n",
    "    def grad(self, w):\n",
    "        \"\"\"Computes the gradient of f at w\"\"\"\n",
    "        y, X, n_samples, strength = self.y, self.X, self.n_samples, self.strength\n",
    "        return X.T.dot(X.dot(w) - y) / n_samples + strength * w\n",
    "\n",
    "    def grad_i(self, i, w):\n",
    "        \"\"\"Computes the gradient of f_i at w\"\"\"\n",
    "        x_i = self.X[i]\n",
    "        return (x_i.dot(w) - y[i]) * x_i + self.strength * w\n",
    "\n",
    "    def grad_coordinate(self, j, w):\n",
    "        \"\"\"Computes the partial derivative of f with respect to \n",
    "        the j-th coordinate\"\"\"\n",
    "        y, X, n_samples, strength = self.y, self.X, self.n_samples, self.strength\n",
    "        return X[:, j].T.dot(X.dot(w) - y) / n_samples + strength * w[j]\n",
    "\n",
    "    def lip(self):\n",
    "        \"\"\"Computes the Lipschitz constant of the gradients of  f\"\"\"\n",
    "        X, n_samples = self.X, self.n_samples\n",
    "        return norm(X.T.dot(X), 2) / n_samples + self.strength\n",
    "\n",
    "    def lip_coordinates(self):\n",
    "        \"\"\"Computes the Lipschitz constant of the gradients of f with respect to \n",
    "        the j-th coordinate\"\"\"\n",
    "        X, n_samples = self.X, self.n_samples\n",
    "        return (X ** 2).sum(axis=0) / n_samples + self.strength\n",
    "        \n",
    "    def lip_max(self):\n",
    "        \"\"\"Computes the maximum of the lipschitz constants of the gradients of f_i\"\"\"\n",
    "        X, n_samples = self.X, self.n_samples\n",
    "        return ((X ** 2).sum(axis=1) + self.strength).max()\n",
    "    \n",
    "    def hessian(self):\n",
    "        X, n_samples = self.X, self.n_samples\n",
    "        return(X.T.dot(X))/ n_samples + self.strength"
   ]
  },
  {
   "cell_type": "markdown",
   "metadata": {},
   "source": [
    "<a id='models_regression_check'></a>\n",
    "\n",
    "## 2.2 Checks for the linear regression model"
   ]
  },
  {
   "cell_type": "code",
   "execution_count": 13,
   "metadata": {},
   "outputs": [
    {
     "name": "stderr",
     "output_type": "stream",
     "text": [
      "/Users/dieuleve/anaconda3/lib/python3.6/site-packages/ipykernel_launcher.py:9: UserWarning: In Matplotlib 3.3 individual lines on a stem plot will be added as a LineCollection instead of individual lines. This significantly improves the performance of a stem plot. To remove this warning and switch to the new behaviour, set the \"use_line_collection\" keyword argument to True.\n",
      "  if __name__ == '__main__':\n"
     ]
    },
    {
     "data": {
      "text/plain": [
       "Text(0.5, 1.0, 'Model weights')"
      ]
     },
     "execution_count": 13,
     "metadata": {},
     "output_type": "execute_result"
    },
    {
     "data": {
      "image/png": "[encoded data removed]",
      "text/plain": [
       "<Figure size 360x216 with 1 Axes>"
      ]
     },
     "metadata": {},
     "output_type": "display_data"
    }
   ],
   "source": [
    "## Simulation setting\n",
    "n_features = 50\n",
    "nnz = 20\n",
    "idx = np.arange(n_features)\n",
    "w0 = (-1) ** (idx + 1) * np.exp(-idx / 10.)\n",
    "w0[nnz:] = 0.\n",
    "\n",
    "plt.figure(figsize=(5, 3))\n",
    "plt.stem(w0)\n",
    "plt.title(\"Model weights\")"
   ]
  },
  {
   "cell_type": "code",
   "execution_count": 14,
   "metadata": {},
   "outputs": [
    {
     "name": "stdout",
     "output_type": "stream",
     "text": [
      "2.264651653732849e-06\n"
     ]
    }
   ],
   "source": [
    "from scipy.optimize import check_grad\n",
    "\n",
    "X, y = simu_linreg(w0, corr=0.6)\n",
    "model = ModelLinReg(X, y, strength=1e-3)\n",
    "w = np.random.randn(n_features)\n",
    "\n",
    "send(float(check_grad(model.loss, model.grad, w)), 3)\n",
    "print(check_grad(model.loss, model.grad, w)) # This must be a number (of order 1e-6)"
   ]
  },
  {
   "cell_type": "code",
   "execution_count": 15,
   "metadata": {
    "scrolled": true
   },
   "outputs": [
    {
     "name": "stdout",
     "output_type": "stream",
     "text": [
      "lip= 4.203283735208287\n",
      "lip_max= 123.41220918733167\n",
      "lip_coordinates= [0.99 0.96 1.02 0.99 1.05 1.06 1.   0.99 0.96 0.99 1.03 0.97 1.05 1.\n",
      " 0.98 0.95 1.01 1.04 1.02 1.01 1.03 0.95 0.99 1.02 0.97 1.08 1.03 1.03\n",
      " 0.98 0.98 0.95 0.95 0.99 0.99 0.99 1.06 1.   1.01 1.11 0.98 0.99 1.08\n",
      " 1.06 1.08 1.05 0.99 1.   0.95 0.91 0.98]\n"
     ]
    }
   ],
   "source": [
    "print(\"lip=\", model.lip())\n",
    "print(\"lip_max=\", model.lip_max())\n",
    "print(\"lip_coordinates=\", model.lip_coordinates())"
   ]
  },
  {
   "cell_type": "code",
   "execution_count": 19,
   "metadata": {},
   "outputs": [
    {
     "data": {
      "text/plain": [
       "(50, 50)"
      ]
     },
     "execution_count": 19,
     "metadata": {},
     "output_type": "execute_result"
    }
   ],
   "source": [
    "model.hessian().shape"
   ]
  },
  {
   "cell_type": "markdown",
   "metadata": {},
   "source": [
    "<a id='models_logistic'></a>\n",
    "\n",
    "## 2.3 Logistic regression\n",
    "\n",
    "**NB**: you can skip these questions and go to the solvers implementation, and come back here later.\n",
    "\n",
    "**1) Compute (on paper) the gradient $\\nabla f$, the gradient of $\\nabla f_i$ and the gradient of the coordinate function $\\frac{\\partial f(w)}{\\partial w_j}$ of $f$ for logistic regression (fill the class given below).**\n",
    "\n",
    "**2) Fill in the functions below for the computation of $f$, $\\nabla f$, $\\nabla f_i$ and $\\frac{\\partial f(w)}{\\partial w_j}$ for logistic regression in the ModelLogReg class below.**"
   ]
  },
  {
   "cell_type": "code",
   "execution_count": 23,
   "metadata": {},
   "outputs": [
    {
     "data": {
      "text/plain": [
       "<Response [200]>"
      ]
     },
     "execution_count": 23,
     "metadata": {},
     "output_type": "execute_result"
    }
   ],
   "source": [
    "class ModelLogReg:\n",
    "    \"\"\"A class giving first order information for logistic regression\n",
    "    \n",
    "    Parameters\n",
    "    ----------\n",
    "    X : `numpy.array`, shape=(n_samples, n_features)\n",
    "        The features matrix\n",
    "    \n",
    "    y : `numpy.array`, shape=(n_samples,)\n",
    "        The vector of labels\n",
    "    \n",
    "    strength : `float`\n",
    "        The strength of ridge penalization\n",
    "    \"\"\"    \n",
    "    def __init__(self, X, y, strength):\n",
    "        self.X = X\n",
    "        self.y = y\n",
    "        self.strength = strength\n",
    "        self.n_samples, self.n_features = X.shape\n",
    "    \n",
    "    def loss(self, w):\n",
    "        \"\"\"Computes f(w)\"\"\"\n",
    "        y, X, n_samples, strength = self.y, self.X, self.n_samples, self.strength\n",
    "        ### TODO\n",
    "        return np.mean(np.log(1+np.exp(- y * (X.dot(w))))) + strength * norm(w) ** 2 / 2\n",
    "        ### END TODO\n",
    "       \n",
    "    def grad(self, w):\n",
    "        \"\"\"Computes the gradient of f at w\"\"\"\n",
    "        y, X, n_samples, strength = self.y, self.X, self.n_samples, self.strength\n",
    "        ### TODO\n",
    "        u = y*np.exp(- y * (X.dot(w)))/(1 + np.exp(- y * (X.dot(w))))\n",
    "        return - (X.T.dot(u))/n_samples + strength * w\n",
    "       ### END TODO\n",
    "\n",
    "    def grad_i(self, i, w):\n",
    "        \"\"\"Computes the gradient of f_i at w\"\"\"\n",
    "        x_i = self.X[i]\n",
    "        strength = self.strength\n",
    "        ### TODO\n",
    "        u = y[i]*np.exp(- y[i] * (x_i.dot(w)))/(1 + np.exp(- y[i] * (x_i.dot(w))))\n",
    "        return (- u*x_i + strength * w)\n",
    "        ### END TODO\n",
    "    \n",
    "    def grad_coordinate(self, j, w):\n",
    "        \"\"\"Computes the partial derivative of f with respect to \n",
    "        the j-th coordinate\"\"\"\n",
    "        y, X, n_samples, strength = self.y, self.X, self.n_samples, self.strength\n",
    "        ### TODO\n",
    "        u = y*np.exp(- y * (X.dot(w)))/(1 + np.exp(- y * (X.dot(w))))\n",
    "        return - (X[:, j].T.dot(u))/n_samples + strength * w[j]\n",
    "        ### END TODO\n",
    "\n",
    "    def lip(self):\n",
    "        \"\"\"Computes the Lipschitz constant of the gradient of  f\"\"\"\n",
    "        X, n_samples = self.X, self.n_samples\n",
    "        ### TODO\n",
    "        return norm(X.T.dot(X), 2) / (4*n_samples) + self.strength\n",
    "        ### END TODO\n",
    "\n",
    "    def lip_coordinates(self):\n",
    "        \"\"\"Computes the Lipschitz constant of the gradient of f with respect to \n",
    "        the j-th coordinate\"\"\"\n",
    "        X, n_samples = self.X, self.n_samples\n",
    "        ### TODO\n",
    "        return (X ** 2).sum(axis=0) / (4*n_samples) + self.strength\n",
    "        ### END TODO\n",
    "\n",
    "    def lip_max(self):\n",
    "        \"\"\"Computes the maximum of the lipschitz constants of the gradients of  f_i\"\"\"\n",
    "        X, n_samples = self.X, self.n_samples\n",
    "        ### TODO\n",
    "        return ((X ** 2).sum(axis=1)/4 + self.strength).max()\n",
    "        ### END TODO\n",
    "     \n",
    "    def hessian(self):\n",
    "        X, n_samples = self.X, self.n_samples\n",
    "        ### TODO\n",
    "        return ((X ** 2).sum(axis=1)/4 + self.strength).max()\n",
    "        ### END TODO\n",
    "        \n",
    "send(ModelLogReg.loss, 4)\n",
    "send(ModelLogReg.grad, 5)\n",
    "send(ModelLogReg.grad_i, 6)\n",
    "send(ModelLogReg.grad_coordinate, 7)\n",
    "send(ModelLogReg.lip, 8)\n",
    "send(ModelLogReg.lip_coordinates, 9)\n",
    "send(ModelLogReg.lip_max, 10)"
   ]
  },
  {
   "cell_type": "markdown",
   "metadata": {},
   "source": [
    "<a id='models_logistic_check'></a>\n",
    "\n",
    "\n",
    "## 2.4 Checks for the logistic regression model\n",
    "\n",
    "**3) Use the function `simu_logreg` to simulate data according to the logistic regression model. Check numerically the gradient using the function ``checkgrad`` from ``scipy.optimize``, as we did for linear regression above.**"
   ]
  },
  {
   "cell_type": "code",
   "execution_count": 94,
   "metadata": {},
   "outputs": [
    {
     "name": "stderr",
     "output_type": "stream",
     "text": [
      "/Users/dieuleve/anaconda3/lib/python3.6/site-packages/ipykernel_launcher.py:11: UserWarning: In Matplotlib 3.3 individual lines on a stem plot will be added as a LineCollection instead of individual lines. This significantly improves the performance of a stem plot. To remove this warning and switch to the new behaviour, set the \"use_line_collection\" keyword argument to True.\n",
      "  # This is added back by InteractiveShellApp.init_path()\n"
     ]
    },
    {
     "name": "stdout",
     "output_type": "stream",
     "text": [
      "Checkgrad returns 2.91e-07\n"
     ]
    },
    {
     "data": {
      "image/png": "[encoded data removed]",
      "text/plain": [
       "<Figure size 360x216 with 1 Axes>"
      ]
     },
     "metadata": {},
     "output_type": "display_data"
    }
   ],
   "source": [
    "\n",
    "\n",
    "## Simulation setting\n",
    "n_features = 50\n",
    "nnz = 20\n",
    "idx = np.arange(n_features)\n",
    "w0 = (-1) ** (idx + 1) * np.exp(-idx / 10.)\n",
    "w0[nnz:] = 0.\n",
    "\n",
    "plt.figure(figsize=(5, 3))\n",
    "plt.stem(w0)\n",
    "plt.title(\"Model weights\")\n",
    "\n",
    "from scipy.optimize import check_grad\n",
    "\n",
    "\n",
    "\n",
    "### TODO\n",
    "X, y = simu_logreg(w0, corr=0.6)\n",
    "model = ModelLogReg(X, y, strength=1e-6)\n",
    "w = np.random.randn(n_features)\n",
    "### END TODO\n",
    "send('Checkgrad returns %.2e' % (check_grad(model.loss, model.grad, w)), 11)\n",
    "print('Checkgrad returns %.2e' % (check_grad(model.loss, model.grad, w))) # This must be a number (of order 1e-6)\n"
   ]
  },
  {
   "cell_type": "code",
   "execution_count": 95,
   "metadata": {
    "scrolled": true
   },
   "outputs": [
    {
     "name": "stdout",
     "output_type": "stream",
     "text": [
      "lip= 1.049638363565095\n",
      "lip_max= 30.802507863255805\n",
      "lip_coordinates= [0.23 0.25 0.25 0.25 0.24 0.25 0.25 0.26 0.24 0.23 0.24 0.25 0.25 0.25\n",
      " 0.25 0.25 0.24 0.23 0.24 0.24 0.25 0.26 0.25 0.25 0.26 0.24 0.26 0.26\n",
      " 0.24 0.25 0.26 0.26 0.25 0.25 0.25 0.27 0.25 0.23 0.25 0.24 0.23 0.24\n",
      " 0.25 0.25 0.24 0.26 0.25 0.25 0.25 0.23]\n"
     ]
    }
   ],
   "source": [
    "print(\"lip=\", model.lip())\n",
    "print(\"lip_max=\", model.lip_max())\n",
    "print(\"lip_coordinates=\", model.lip_coordinates())"
   ]
  },
  {
   "cell_type": "markdown",
   "metadata": {},
   "source": [
    "<a id='solvers'></a>\n",
    "## 3. Solvers"
   ]
  },
  {
   "cell_type": "markdown",
   "metadata": {},
   "source": [
    "We now have classes `ModelLinReg` and `ModelLogReg` that allow to compute $f(w)$, $\\nabla f(w)$, \n",
    "$\\nabla f_i(w)$ and $\\frac{\\partial f(w)}{\\partial w_j}$ for the objective $f$\n",
    "given by linear and logistic regression. We want now to code and compare several solvers to minimize $f$."
   ]
  },
  {
   "cell_type": "markdown",
   "metadata": {},
   "source": [
    "<a id='tools'></a>\n",
    "## 3.1. Tools for the solvers"
   ]
  },
  {
   "cell_type": "markdown",
   "metadata": {},
   "source": [
    "The following tools store the loss after each epoch"
   ]
  },
  {
   "cell_type": "code",
   "execution_count": 96,
   "metadata": {
    "collapsed": true
   },
   "outputs": [],
   "source": [
    "# Starting point of all solvers\n",
    "w0 = np.zeros(model.n_features)\n",
    "\n",
    "# Number of iterations\n",
    "n_iter = 50\n",
    "\n",
    "# Random samples indices for the stochastic solvers (sgd, sag, svrg) \n",
    "idx_samples = np.random.randint(0, model.n_samples, model.n_samples * n_iter)"
   ]
  },
  {
   "cell_type": "code",
   "execution_count": 97,
   "metadata": {
    "collapsed": true
   },
   "outputs": [],
   "source": [
    "def inspector(model, n_iter, verbose=True):\n",
    "    \"\"\"A closure called to update metrics after each iteration.\n",
    "    Don't even look at it, we'll just use it in the solvers.\"\"\"\n",
    "    objectives = []\n",
    "    it = [0] # This is a hack to be able to modify 'it' inside the closure.\n",
    "    def inspector_cl(w):\n",
    "        obj = model.loss(w)\n",
    "        objectives.append(obj)\n",
    "        if verbose == True:\n",
    "            if it[0] == 0:\n",
    "                print(' | '.join([name.center(8) for name in [\"it\", \"obj\"]]))\n",
    "            if it[0] % (n_iter / 5) == 0:\n",
    "                print(' | '.join([(\"%d\" % it[0]).rjust(8), (\"%.6e\" % obj).rjust(8)]))\n",
    "            it[0] += 1\n",
    "    inspector_cl.objectives = objectives\n",
    "    return inspector_cl"
   ]
  },
  {
   "cell_type": "markdown",
   "metadata": {},
   "source": [
    "<a id='gd'></a>\n",
    "## 3.2 Gradient descent\n",
    "\n",
    "\n",
    "**4) Finish the function `gd` below that implements the gradient descent algorithm and test it using the next cell.**"
   ]
  },
  {
   "cell_type": "code",
   "execution_count": 98,
   "metadata": {
    "scrolled": true
   },
   "outputs": [
    {
     "data": {
      "text/plain": [
       "<Response [200]>"
      ]
     },
     "execution_count": 98,
     "metadata": {},
     "output_type": "execute_result"
    }
   ],
   "source": [
    "def gd(model, w0, n_iter, callback, verbose=True):\n",
    "    \"\"\"Gradient descent\n",
    "    \"\"\"\n",
    "    step = 1 / model.lip()\n",
    "    w = w0.copy()\n",
    "    w_new = w0.copy()\n",
    "    if verbose:\n",
    "        print(\"Lauching GD solver...\")\n",
    "    callback(w)\n",
    "    for k in range(n_iter + 1):\n",
    "        ### TODO\n",
    "        w_new[:] = w - step * model.grad(w)\n",
    "        w[:] = w_new # Remark : does operation inplace\n",
    "        ### END TODO\n",
    "        callback(w)\n",
    "    return w\n",
    "send(gd, 12)"
   ]
  },
  {
   "cell_type": "code",
   "execution_count": 99,
   "metadata": {},
   "outputs": [
    {
     "name": "stdout",
     "output_type": "stream",
     "text": [
      "Lauching GD solver...\n",
      "   it    |   obj   \n",
      "       0 | 6.931472e-01\n",
      "      10 | 5.944509e-01\n",
      "      20 | 5.726391e-01\n",
      "      30 | 5.641559e-01\n",
      "      40 | 5.603721e-01\n",
      "      50 | 5.585550e-01\n"
     ]
    }
   ],
   "source": [
    "callback_gd = inspector(model, n_iter=n_iter)\n",
    "w_gd = gd(model, w0, n_iter=n_iter, callback=callback_gd)"
   ]
  },
  {
   "cell_type": "markdown",
   "metadata": {},
   "source": [
    "<a id='agd'></a>\n",
    "## 3.3 Accelerated gradient descent\n",
    "\n",
    "**5) Finish the function `agd` below that implements the accelerated gradient descent algorithm and test it using the next cell.**"
   ]
  },
  {
   "cell_type": "code",
   "execution_count": 100,
   "metadata": {},
   "outputs": [
    {
     "data": {
      "text/plain": [
       "<Response [200]>"
      ]
     },
     "execution_count": 100,
     "metadata": {},
     "output_type": "execute_result"
    }
   ],
   "source": [
    "def agd(model, w0, n_iter, callback, verbose=True):\n",
    "    \"\"\"Accelerated gradient descent\n",
    "    \"\"\"\n",
    "    step = 1 / model.lip()\n",
    "    w = w0.copy()\n",
    "    w_new = w0.copy()\n",
    "    # An extra variable is required for acceleration\n",
    "    z = w0.copy() # the auxiliari point at which the gradient is taken\n",
    "    t = 1. # beta this morning = momentum coefficient \n",
    "    t_new = 1.    \n",
    "    if verbose:\n",
    "        print(\"Lauching AGD solver...\")\n",
    "    callback(w)\n",
    "    for k in range(n_iter + 1):\n",
    "        ### TODO\n",
    "        w_new[:] = z - step * model.grad(z)\n",
    "        \n",
    "        # Trivial choice\n",
    "        # t_new = 0.9\n",
    "        \n",
    "        t_new = (1. + (1. + 4. * t * t) ** (0.5)) / 2. # Optimal momentum coefficinet for smooth convex\n",
    "        beta = (t - 1) / t_new\n",
    "        # see https://blogs.princeton.edu/imabandit/2018/11/21/a-short-proof-for-nesterovs-momentum/\n",
    "        # Simpler choice:\n",
    "        beta = k/(k+3)\n",
    "        \n",
    "        # t_new = k/k+3 (other solution in convex)\n",
    "        # kappa = model.lip()/model.strenth() \n",
    "        # beta = (1-(1/kappa)**0.5 )/(1+(1/kappa)**0.5) # For strongly convex\n",
    "        # see https://blogs.princeton.edu/imabandit/2014/03/06/nesterovs-accelerated-gradient-descent-for-smooth-and-strongly-convex-optimization/\n",
    "        \n",
    "        z[:] = w_new + beta * (w_new - w)\n",
    "        t = t_new\n",
    "        w[:] = w_new\n",
    "        ### END TODO        \n",
    "        callback(w)\n",
    "    return w\n",
    "\n",
    "send(agd, 13)"
   ]
  },
  {
   "cell_type": "code",
   "execution_count": 101,
   "metadata": {},
   "outputs": [
    {
     "name": "stdout",
     "output_type": "stream",
     "text": [
      "Lauching AGD solver...\n",
      "   it    |   obj   \n",
      "       0 | 6.931472e-01\n",
      "      10 | 5.712684e-01\n",
      "      20 | 5.566597e-01\n",
      "      30 | 5.569070e-01\n",
      "      40 | 5.566269e-01\n",
      "      50 | 5.566541e-01\n"
     ]
    }
   ],
   "source": [
    "callback_agd = inspector(model, n_iter=n_iter)\n",
    "w_agd = agd(model, w0, n_iter=n_iter, callback=callback_agd)"
   ]
  },
  {
   "cell_type": "markdown",
   "metadata": {},
   "source": [
    "<a id='cgd'></a>\n",
    "\n",
    "## 3.4 Coordinate gradient descent\n",
    "\n",
    "**6) Finish the function `cgd` below that implements the coordinate gradient descent algorithm and test it using the next cell.**"
   ]
  },
  {
   "cell_type": "code",
   "execution_count": 102,
   "metadata": {},
   "outputs": [
    {
     "data": {
      "text/plain": [
       "<Response [200]>"
      ]
     },
     "execution_count": 102,
     "metadata": {},
     "output_type": "execute_result"
    }
   ],
   "source": [
    "def cgd(model, w0, n_iter, callback, verbose=True):\n",
    "    \"\"\"Coordinate gradient descent\n",
    "    \"\"\"\n",
    "    w = w0.copy()\n",
    "    n_features = model.n_features\n",
    "    steps = 1 / model.lip_coordinates()\n",
    "    if verbose:\n",
    "        print(\"Lauching CGD solver...\")\n",
    "    callback(w)\n",
    "    for k in range(n_iter + 1):\n",
    "        ### TODO\n",
    "        for j in range(n_features): # 50 features\n",
    "            w[j] -= steps[j] * model.grad_coordinate(j, w)  # \n",
    "        ### END TODO\n",
    "        callback(w)\n",
    "    return w\n",
    "send(cgd, 14)"
   ]
  },
  {
   "cell_type": "code",
   "execution_count": 103,
   "metadata": {},
   "outputs": [
    {
     "name": "stdout",
     "output_type": "stream",
     "text": [
      "Lauching CGD solver...\n",
      "   it    |   obj   \n",
      "       0 | 6.931472e-01\n",
      "      10 | 5.570530e-01\n",
      "      20 | 5.566291e-01\n",
      "      30 | 5.566221e-01\n",
      "      40 | 5.566220e-01\n",
      "      50 | 5.566220e-01\n"
     ]
    }
   ],
   "source": [
    "callback_cgd = inspector(model, n_iter=n_iter)\n",
    "w_cgd = cgd(model, w0, n_iter=n_iter, callback=callback_cgd)"
   ]
  },
  {
   "cell_type": "markdown",
   "metadata": {},
   "source": [
    "<a id='sgd'></a>\n",
    "## 3.5. Stochastic gradient descent\n",
    "\n",
    "**7) Finish the function `sgd` below that implements the st stochastic gradient descent algorithm and test it using the next cell.**"
   ]
  },
  {
   "cell_type": "code",
   "execution_count": 104,
   "metadata": {},
   "outputs": [
    {
     "data": {
      "text/plain": [
       "<Response [200]>"
      ]
     },
     "execution_count": 104,
     "metadata": {},
     "output_type": "execute_result"
    }
   ],
   "source": [
    "def sgd(model, w0, idx_samples, n_iter, step, callback, verbose=True):\n",
    "    \"\"\"Stochastic gradient descent\n",
    "    \"\"\"\n",
    "    w = w0.copy()\n",
    "    w_ave = w0.copy()\n",
    "    callback(w)\n",
    "    n_samples = model.n_samples\n",
    "    for idx in range(n_iter):\n",
    "        i = idx_samples[idx]\n",
    "        ### TODO\n",
    "        w -= step * model.grad_i(i, w)/ (np.sqrt(idx + 1)) # decays at 1/sqrt{k} good choice for convex functions\n",
    "        # decent choice for strongly convex\n",
    "        # also possible to use 1/ (model.strength() * k) (choice in the slides)\n",
    "        \n",
    "        # w_ave =  idx/(idx+1)*w_ave + 1/(idx+1)*w\n",
    "        \n",
    "        ## IMPLEMENT PR AVERAGE \n",
    "        \n",
    "        ### END TODO  # every n_samples iterations \n",
    "        if idx % n_samples == 0:\n",
    "            callback(w) #w_ave\n",
    "    return w\n",
    "send(sgd, 15)"
   ]
  },
  {
   "cell_type": "code",
   "execution_count": 105,
   "metadata": {
    "scrolled": false
   },
   "outputs": [
    {
     "name": "stdout",
     "output_type": "stream",
     "text": [
      "   it    |   obj   \n",
      "       0 | 6.931472e-01\n",
      "      10 | 5.925675e-01\n",
      "      20 | 5.782849e-01\n",
      "      30 | 5.720361e-01\n",
      "      40 | 5.684581e-01\n",
      "      50 | 5.662035e-01\n"
     ]
    }
   ],
   "source": [
    "step = 1e-1\n",
    "callback_sgd = inspector(model, n_iter=n_iter)\n",
    "w_sgd = sgd(model, w0, idx_samples, n_iter=model.n_samples * n_iter, \n",
    "            step=step, callback=callback_sgd)"
   ]
  },
  {
   "cell_type": "code",
   "execution_count": 106,
   "metadata": {},
   "outputs": [
    {
     "data": {
      "text/plain": [
       "([0.6931471805599454,\n",
       "  0.7440804255231553,\n",
       "  0.660109784622778,\n",
       "  0.6350192695629714,\n",
       "  0.6224656806857957],\n",
       " [0.6931471805599454,\n",
       "  0.6649261240788282,\n",
       "  0.648879052872999,\n",
       "  0.6342913628014946,\n",
       "  0.6211089038098663],\n",
       " [0.6931471805599454,\n",
       "  0.6649261240788282,\n",
       "  0.648879052872999,\n",
       "  0.6370318314674263,\n",
       "  0.627593607603908])"
      ]
     },
     "execution_count": 106,
     "metadata": {},
     "output_type": "execute_result"
    }
   ],
   "source": [
    "callback_sgd.objectives[0:5], callback_agd.objectives[0:5],  callback_gd.objectives[0:5]  # in terms of passes"
   ]
  },
  {
   "cell_type": "markdown",
   "metadata": {},
   "source": [
    "<a id='sag'></a>\n",
    "## 3.6. Stochastic average gradient descent\n",
    "\n",
    "\n",
    "**8) Finish the function `sag` below that implements the stochastic averaged gradient algorithm and test it using the next cell.**"
   ]
  },
  {
   "cell_type": "code",
   "execution_count": 107,
   "metadata": {},
   "outputs": [
    {
     "data": {
      "text/plain": [
       "<Response [200]>"
      ]
     },
     "execution_count": 107,
     "metadata": {},
     "output_type": "execute_result"
    }
   ],
   "source": [
    "def sag(model, w0, idx_samples, n_iter, step, callback, verbose=True):\n",
    "    \"\"\"Stochastic average gradient descent\n",
    "    \"\"\"\n",
    "    w = w0.copy()\n",
    "    n_samples, n_features = model.n_samples, model.n_features\n",
    "    gradient_memory = np.zeros((n_samples, n_features)) # one gradient per sample n= 60k,  d= 50M  => 3 10^12\n",
    "    y = np.zeros(n_features)\n",
    "    callback(w)\n",
    "    for idx in range(n_iter):\n",
    "        i = idx_samples[idx]        \n",
    "        ### TODO\n",
    "        y_new = model.grad_i(i, w)\n",
    "        y += (y_new - gradient_memory[i]) / n_samples\n",
    "        gradient_memory[i] = y_new\n",
    "        w -= step * y\n",
    "        ### END TODO        \n",
    "        if idx % n_samples == 0:\n",
    "            callback(w)\n",
    "    return w\n",
    "send(sag, 16)"
   ]
  },
  {
   "cell_type": "code",
   "execution_count": 108,
   "metadata": {},
   "outputs": [
    {
     "name": "stdout",
     "output_type": "stream",
     "text": [
      "   it    |   obj   \n",
      "       0 | 6.931472e-01\n",
      "      10 | 5.574429e-01\n",
      "      20 | 5.566307e-01\n",
      "      30 | 5.566220e-01\n",
      "      40 | 5.566220e-01\n",
      "      50 | 5.566220e-01\n"
     ]
    }
   ],
   "source": [
    "step = 1 / model.lip_max()\n",
    "callback_sag = inspector(model, n_iter=n_iter)\n",
    "w_sag = sag(model, w0, idx_samples, n_iter=model.n_samples * n_iter, \n",
    "            step=step, callback=callback_sag)"
   ]
  },
  {
   "cell_type": "markdown",
   "metadata": {},
   "source": [
    "<a id='svrg'></a>\n",
    "## 3.7. Stochastic variance reduced gradient\n",
    "\n",
    "**9) Finish the function `svrg` below that implements the stochastic variance reduced gradient algorithm and test it using the next cell.**"
   ]
  },
  {
   "cell_type": "code",
   "execution_count": 109,
   "metadata": {},
   "outputs": [
    {
     "data": {
      "text/plain": [
       "<Response [200]>"
      ]
     },
     "execution_count": 109,
     "metadata": {},
     "output_type": "execute_result"
    }
   ],
   "source": [
    "def svrg(model, w0, idx_samples, n_iter, step, callback, verbose=True):\n",
    "    \"\"\"Stochastic variance reduced gradient descent\n",
    "    \"\"\"\n",
    "    w = w0.copy()\n",
    "    w_old = w.copy()\n",
    "    temp_sum = 0\n",
    "    n_samples = model.n_samples\n",
    "    callback(w)\n",
    "    for idx in range(n_iter):        \n",
    "        ### TODO\n",
    "        if idx % n_samples == 0:\n",
    "            w_old[:] = temp_sum/n_samples\n",
    "            mu = model.grad(w)\n",
    "            temp_sum = 0\n",
    "        i = idx_samples[idx]\n",
    "        z_new = model.grad_i(i, w)\n",
    "        z_old = model.grad_i(i, w_old)  ### w_old is the only thinng I keep, I can recompute the gradient f_i (w_old)\n",
    "        ## SVRG trades memory for computation\n",
    "        w -= step * (z_new - z_old + mu)\n",
    "        temp_sum += w\n",
    "        ### END TODO        \n",
    "        if idx % n_samples == 0:\n",
    "            callback(w)\n",
    "    return \n",
    "send(svrg, 17)"
   ]
  },
  {
   "cell_type": "code",
   "execution_count": 110,
   "metadata": {},
   "outputs": [
    {
     "name": "stdout",
     "output_type": "stream",
     "text": [
      "   it    |   obj   \n",
      "       0 | 6.931472e-01\n",
      "      10 | 5.572397e-01\n",
      "      20 | 5.566227e-01\n",
      "      30 | 5.566220e-01\n",
      "      40 | 5.566220e-01\n",
      "      50 | 5.566220e-01\n"
     ]
    }
   ],
   "source": [
    "step = 1 / model.lip_max()\n",
    "callback_svrg = inspector(model, n_iter=n_iter)\n",
    "w_svrg = svrg(model, w0, idx_samples, n_iter=model.n_samples * n_iter,\n",
    "              step=step, callback=callback_svrg)"
   ]
  },
  {
   "cell_type": "markdown",
   "metadata": {},
   "source": [
    "<a id='adagrad'></a>\n",
    "\n",
    "## 3.8 ADAGRAD\n",
    "\n",
    "**10) Create the function `adagrad` that implements the adagrad solver and test it.**"
   ]
  },
  {
   "cell_type": "code",
   "execution_count": 111,
   "metadata": {},
   "outputs": [
    {
     "data": {
      "text/plain": [
       "<Response [200]>"
      ]
     },
     "execution_count": 111,
     "metadata": {},
     "output_type": "execute_result"
    }
   ],
   "source": [
    "##################\n",
    "\n",
    "\n",
    "def adagrad(model, w0, n_iter, step, callback, verbose=True):\n",
    "    \"\"\"Adagrad\"\"\"\n",
    "### TODO\n",
    "    w = w0.copy()\n",
    "    n_features = model.n_features\n",
    "    sum_gradient_square = np.zeros(n_features)\n",
    "    if verbose:\n",
    "        print(\"Lauching Adagrad solver...\")\n",
    "    callback(w)\n",
    "    for k in range(n_iter + 1):\n",
    "        gradient = model.grad(w)\n",
    "        sum_gradient_square += gradient**2\n",
    "        w -= (step/(np.sqrt(sum_gradient_square)))*gradient\n",
    "        callback(w)\n",
    "    return w\n",
    "\n",
    "### END TODO\n",
    "##################\n",
    "send(adagrad, 18)"
   ]
  },
  {
   "cell_type": "code",
   "execution_count": 112,
   "metadata": {},
   "outputs": [
    {
     "name": "stdout",
     "output_type": "stream",
     "text": [
      "Lauching Adagrad solver...\n",
      "   it    |   obj   \n",
      "       0 | 6.931472e-01\n",
      "      10 | 6.640045e-01\n",
      "      20 | 6.536899e-01\n",
      "      30 | 6.466657e-01\n",
      "      40 | 6.412458e-01\n",
      "      50 | 6.368084e-01\n"
     ]
    }
   ],
   "source": [
    "##################\n",
    "### TODO\n",
    "\n",
    "step = 0.01\n",
    "callback_adagrad = inspector(model, n_iter=n_iter)\n",
    "w_adagrad = adagrad(model, w0, n_iter=n_iter,\n",
    "              step=step, callback=callback_adagrad)\n",
    "\n",
    "### END TODO\n",
    "##################"
   ]
  },
  {
   "cell_type": "markdown",
   "metadata": {},
   "source": [
    "<a id='rmsprop'></a>\n",
    "\n",
    "\n",
    "## 3.9 RMSProp\n",
    "\n",
    "**11) Create the function `rmsprop` that implements the RMSProp solver and test it.**"
   ]
  },
  {
   "cell_type": "code",
   "execution_count": 43,
   "metadata": {},
   "outputs": [
    {
     "data": {
      "text/plain": [
       "<Response [200]>"
      ]
     },
     "execution_count": 43,
     "metadata": {},
     "output_type": "execute_result"
    }
   ],
   "source": [
    "\n",
    "\n",
    "def rmsprop(model, w0, n_iter, step, rho, epsilon, callback, verbose=True):\n",
    "##################\n",
    "### TODO\n",
    "    \"\"\"RMSProp\"\"\"\n",
    "    w = w0.copy()\n",
    "    n_features = model.n_features\n",
    "    accumulated_square_gradient = np.zeros(n_features)\n",
    "    if verbose:\n",
    "        print(\"Lauching RMSProp solver...\")\n",
    "    callback(w)\n",
    "    for k in range(n_iter + 1):\n",
    "        gradient = model.grad(w)\n",
    "        accumulated_square_gradient = rho*accumulated_square_gradient + (1-rho) *(gradient)**2\n",
    "        w -= (step/(np.sqrt(accumulated_square_gradient + epsilon)))*gradient  \n",
    "        callback(w)\n",
    "    return w\n",
    "\n",
    "### END TODO\n",
    "##################\n",
    "send(rmsprop, 19)"
   ]
  },
  {
   "cell_type": "code",
   "execution_count": 44,
   "metadata": {},
   "outputs": [
    {
     "name": "stdout",
     "output_type": "stream",
     "text": [
      "Lauching RMSProp solver...\n",
      "   it    |   obj   \n",
      "       0 | 6.93e-01\n",
      "      10 | 6.79e-01\n",
      "      20 | 6.71e-01\n",
      "      30 | 6.66e-01\n",
      "      40 | 6.60e-01\n",
      "      50 | 6.55e-01\n"
     ]
    }
   ],
   "source": [
    "##################\n",
    "### TODO\n",
    "\n",
    "step = 0.001\n",
    "rho = 0.9\n",
    "epsilon = 0.000001\n",
    "callback_rmsprop = inspector(model, n_iter=n_iter)\n",
    "w_rmsprop = rmsprop(model, w0, n_iter=n_iter, step = step,\n",
    "              rho = rho, epsilon = epsilon, callback=callback_rmsprop)\n",
    "\n",
    "### END TODO\n",
    "##################"
   ]
  },
  {
   "cell_type": "markdown",
   "metadata": {},
   "source": [
    "<a id='adadelta'></a>\n",
    "\n",
    "## 3.10 AdaDelta\n",
    "\n",
    "**12) Create the function `adadelta` that implements adadelta solver and test it.**"
   ]
  },
  {
   "cell_type": "code",
   "execution_count": 45,
   "metadata": {},
   "outputs": [
    {
     "data": {
      "text/plain": [
       "<Response [200]>"
      ]
     },
     "execution_count": 45,
     "metadata": {},
     "output_type": "execute_result"
    }
   ],
   "source": [
    "\n",
    "\n",
    "def adadelta(model, w0, n_iter, rho, epsilon, callback, verbose=True):\n",
    "##################\n",
    "### TODO\n",
    "    \"\"\"Adadelta\"\"\"\n",
    "    w = w0.copy()\n",
    "    w_old = w0.copy()\n",
    "    n_features = model.n_features\n",
    "    accumulated_square_gradient = np.zeros(n_features)\n",
    "    accumulated_square_weights = np.zeros(n_features)\n",
    "    if verbose:\n",
    "        print(\"Lauching Adadelta solver...\")\n",
    "    callback(w)\n",
    "    for k in range(n_iter + 1):\n",
    "        gradient = model.grad(w)\n",
    "        accumulated_square_gradient = rho*accumulated_square_gradient + (1-rho) *(gradient)**2\n",
    "        w_old[:] = w[:]\n",
    "        w -= ((np.sqrt(accumulated_square_weights + epsilon))/(np.sqrt(accumulated_square_gradient + epsilon)))*(gradient)    \n",
    "        accumulated_square_weights = rho*accumulated_square_weights + (1-rho) *(w - w_old)**2\n",
    "        callback(w)\n",
    "    return w\n",
    "\n",
    "### END TODO\n",
    "##################\n",
    "send(adadelta, 20)"
   ]
  },
  {
   "cell_type": "code",
   "execution_count": 46,
   "metadata": {},
   "outputs": [
    {
     "name": "stdout",
     "output_type": "stream",
     "text": [
      "Lauching Adadelta solver...\n",
      "   it    |   obj   \n",
      "       0 | 6.93e-01\n",
      "      10 | 6.64e-01\n",
      "      20 | 6.45e-01\n",
      "      30 | 6.31e-01\n",
      "      40 | 6.19e-01\n",
      "      50 | 6.09e-01\n"
     ]
    }
   ],
   "source": [
    "##################\n",
    "### TODO\n",
    "\n",
    "rho = 0.95\n",
    "epsilon = 0.000001\n",
    "callback_adadelta = inspector(model, n_iter=n_iter)\n",
    "w_adadelta = adadelta(model, w0, n_iter=n_iter,\n",
    "              rho = rho, epsilon = epsilon, callback=callback_adadelta)\n",
    "\n",
    "### END TODO\n",
    "##################"
   ]
  },
  {
   "cell_type": "markdown",
   "metadata": {},
   "source": [
    "<a id='adam'></a>\n",
    "\n",
    "\n",
    "## 3.11 Adam\n",
    "\n",
    "**13) Create the function `adam` that implements the adam algorithm and test it.**"
   ]
  },
  {
   "cell_type": "code",
   "execution_count": 47,
   "metadata": {},
   "outputs": [
    {
     "data": {
      "text/plain": [
       "<Response [200]>"
      ]
     },
     "execution_count": 47,
     "metadata": {},
     "output_type": "execute_result"
    }
   ],
   "source": [
    "\n",
    "\n",
    "def adam(model, w0, n_iter, step, beta1, beta2, epsilon, callback, verbose=True):\n",
    "##################\n",
    "### TODO\n",
    "    \"Adam\"\n",
    "    w = w0.copy()\n",
    "    n_features = model.n_features\n",
    "    accumulated_gradient = np.zeros(n_features)\n",
    "    accumulated_square_gradient = np.zeros(n_features)\n",
    "    if verbose:\n",
    "        print(\"Lauching Adam solver...\")\n",
    "    callback(w)\n",
    "    for k in range(n_iter + 1):\n",
    "        gradient = model.grad(w)\n",
    "        accumulated_gradient = beta1*accumulated_gradient + (1-beta1)*gradient\n",
    "        accumulated_gradient_correction = accumulated_gradient/(1 - beta1**(k+1))\n",
    "        accumulated_square_gradient = beta2*accumulated_square_gradient + (1-beta2) *(gradient)**2\n",
    "        accumulated_square_gradient_correction = accumulated_square_gradient/(1 - beta2**(k+1))\n",
    "        w -= - (step /(np.sqrt(accumulated_square_gradient_correction) + epsilon))*accumulated_gradient_correction\n",
    "        callback(w)\n",
    "    return w\n",
    "\n",
    "### END TODO\n",
    "##################\n",
    "send(adam, 21)"
   ]
  },
  {
   "cell_type": "code",
   "execution_count": 48,
   "metadata": {},
   "outputs": [
    {
     "name": "stdout",
     "output_type": "stream",
     "text": [
      "Lauching Adam solver...\n",
      "   it    |   obj   \n",
      "       0 | 6.93e-01\n",
      "      10 | 7.05e-01\n",
      "      20 | 7.21e-01\n",
      "      30 | 7.40e-01\n",
      "      40 | 7.65e-01\n",
      "      50 | 7.95e-01\n"
     ]
    }
   ],
   "source": [
    "##################\n",
    "### TODO\n",
    "\n",
    "step = 0.001\n",
    "beta1 = 0.9\n",
    "beta2 = 0.999\n",
    "epsilon = 10**(-6)\n",
    "\n",
    "callback_adam = inspector(model, n_iter=n_iter)\n",
    "w_adam = adam(model, w0, n_iter=n_iter, step = step, beta1 = beta1, beta2 = beta2, \n",
    "              epsilon = epsilon, callback=callback_adam)\n",
    "              \n",
    "### END TODO\n",
    "##################"
   ]
  },
  {
   "cell_type": "markdown",
   "metadata": {},
   "source": [
    "<a id='adamax'></a>\n",
    "\n",
    "\n",
    "## 3.12 Adamax\n",
    "\n",
    "**14) Create the function `adamax` that implements the adamax solver and test it.**"
   ]
  },
  {
   "cell_type": "code",
   "execution_count": 49,
   "metadata": {},
   "outputs": [
    {
     "data": {
      "text/plain": [
       "<Response [200]>"
      ]
     },
     "execution_count": 49,
     "metadata": {},
     "output_type": "execute_result"
    }
   ],
   "source": [
    "##################\n",
    "### TODO\n",
    "\n",
    "def adamax(model, w0, n_iter, step, beta1, beta2, callback, verbose=True):\n",
    "    \"\"\"Adamax\"\"\"\n",
    "    w = w0.copy()\n",
    "    n_features = model.n_features\n",
    "    accumulated_gradient = np.zeros(n_features)\n",
    "    u =  np.zeros(n_features)\n",
    "    if verbose:\n",
    "        print(\"Lauching Adamax solver...\")\n",
    "    callback(w)\n",
    "    for k in range(n_iter + 1):\n",
    "        gradient = model.grad(w)\n",
    "        accumulated_gradient = beta1*accumulated_gradient + (1-beta1)*gradient\n",
    "        accumulated_gradient_correction = accumulated_gradient/(1 - beta1**(k+1))\n",
    "        u = np.maximum(beta2*u, abs(gradient))\n",
    "        w  -= - (step /u)*accumulated_gradient_correction\n",
    "        callback(w)\n",
    "    return w\n",
    "\n",
    "### END TODO\n",
    "##################\n",
    "send(adamax, 22)"
   ]
  },
  {
   "cell_type": "code",
   "execution_count": 50,
   "metadata": {},
   "outputs": [
    {
     "name": "stdout",
     "output_type": "stream",
     "text": [
      "Lauching Adamax solver...\n",
      "   it    |   obj   \n",
      "       0 | 6.93e-01\n",
      "      10 | 7.04e-01\n",
      "      20 | 7.17e-01\n",
      "      30 | 7.32e-01\n",
      "      40 | 7.49e-01\n",
      "      50 | 7.68e-01\n"
     ]
    }
   ],
   "source": [
    "##################\n",
    "### TODO\n",
    "\n",
    "step = 0.001\n",
    "beta1 = 0.9\n",
    "beta2 = 0.999\n",
    "epsilon = 10**(-6)\n",
    "callback_adamax = inspector(model, n_iter=n_iter)\n",
    "w_adamax = adamax(model, w0, n_iter=n_iter, step = step,\n",
    "              beta1 = beta1, beta2 = beta2, callback=callback_adamax)\n",
    "\n",
    "### END TODO\n",
    "##################"
   ]
  },
  {
   "cell_type": "markdown",
   "metadata": {},
   "source": [
    "<a id='comparison'></a>\n",
    "# 4. Comparison of all algorithms"
   ]
  },
  {
   "cell_type": "markdown",
   "metadata": {},
   "source": [
    "**15) Plot the values of the loss for the different iteration and for each solver. Comment. **"
   ]
  },
  {
   "cell_type": "code",
   "execution_count": 113,
   "metadata": {
    "collapsed": true
   },
   "outputs": [],
   "source": [
    "callbacks = [callback_gd, callback_agd, callback_cgd, callback_sgd, \n",
    "             callback_sag, callback_svrg]\n",
    "#callback_adagrad, callback_rmsprop, callback_adadelta, callback_adam, callback_adamax]\n",
    "names = [\"GD\", \"AGD\", \"CGD\", \"SGD\", \"SAG\", \"SVRG\"]\n",
    "#\"ADAGRAD\", \"RMSPROP\", \"ADADELTA\",        \"ADAM\", \"ADAMAX\"]\n",
    "\n",
    "callback_long = inspector(model, n_iter=1000, verbose=False)\n",
    "w_cgd = cgd(model, w0, n_iter=1000, callback=callback_long, verbose=False)\n",
    "obj_min = callback_long.objectives[-1]"
   ]
  },
  {
   "cell_type": "code",
   "execution_count": 115,
   "metadata": {},
   "outputs": [
    {
     "data": {
      "text/plain": [
       "<Response [200]>"
      ]
     },
     "execution_count": 115,
     "metadata": {},
     "output_type": "execute_result"
    },
    {
     "data": {
      "image/png": "[encoded data removed]",
      "text/plain": [
       "<Figure size 432x360 with 1 Axes>"
      ]
     },
     "metadata": {},
     "output_type": "display_data"
    }
   ],
   "source": [
    "plt.figure(figsize=(6, 5))\n",
    "plt.yscale(\"log\")\n",
    "\n",
    "for callback, name in zip(callbacks, names):\n",
    "    objectives = np.array(callback.objectives[0:10])\n",
    "    objectives_dist = objectives - obj_min    \n",
    "    plt.plot(objectives_dist, label=name, lw=2)\n",
    "\n",
    "plt.tight_layout()\n",
    "plt.xlim((0, n_iter/5))\n",
    "plt.xlabel(\"Number of passes on the data\", fontsize=16)\n",
    "plt.ylabel(r\"$F(w^k) - F(w^*)$\", fontsize=16)\n",
    "plt.legend(loc='lower left')\n",
    "plt.tight_layout()\n",
    "send(plt, 23)"
   ]
  },
  {
   "cell_type": "markdown",
   "metadata": {},
   "source": [
    "**16) In logistic regression, study the influence of the correlation of the features on the performance of the optimization algorithms. Explain.**\n",
    "\n",
    "**17) In logistic regression, study the influence of the level of ridge penalization on the performance of the optimization algorithms. Explain.**\n",
    "\n",
    "**18) (OPTIONAL) All algorithms can be modified to handle an objective of the form $f + g$ with $g$ separable and prox-capable. Modify all the algorithms and try them out for L1 penalization $f(w) = \\lambda \\sum_{j=1}^d |w_j|$**"
   ]
  },
  {
   "cell_type": "markdown",
   "metadata": {
    "collapsed": true
   },
   "source": [
    "\n",
    " "
   ]
  },
  {
   "cell_type": "code",
   "execution_count": null,
   "metadata": {
    "collapsed": true
   },
   "outputs": [],
   "source": []
  }
 ],
 "metadata": {
  "anaconda-cloud": {},
  "kernelspec": {
   "display_name": "Python 3",
   "language": "python",
   "name": "python3"
  },
  "language_info": {
   "codemirror_mode": {
    "name": "ipython",
    "version": 3
   },
   "file_extension": ".py",
   "mimetype": "text/x-python",
   "name": "python",
   "nbconvert_exporter": "python",
   "pygments_lexer": "ipython3",
   "version": "3.6.8"
  }
 },
 "nbformat": 4,
 "nbformat_minor": 1
}
