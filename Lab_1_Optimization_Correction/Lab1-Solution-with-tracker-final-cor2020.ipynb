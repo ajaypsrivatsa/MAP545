{
 "cells": [
  {
   "cell_type": "markdown",
   "metadata": {},
   "source": [
    "# Optimization and Deep Learning. Lab 1 - Solution\n",
    "\n",
    "Gradient Descent, Stochastic Gradient Descent."
   ]
  },
  {
   "cell_type": "code",
   "execution_count": null,
   "metadata": {},
   "outputs": [],
   "source": [
    "# Useful starting lines\n",
    "%matplotlib inline\n",
    "import numpy as np\n",
    "import matplotlib.pyplot as plt\n",
    "%load_ext autoreload\n",
    "%autoreload 2\n",
    "%precision 2\n",
    "\n",
    "\n",
    "import requests\n",
    "\n",
    "exec(requests.get(\"https://courdier.pythonanywhere.com/get-send-code\").content)\n",
    "npt_config = {'session_name': 'Lab1-Map545','session_owner': 'aymeric', } #do not change those lines\n",
    "\n",
    "npt_config['sender_name'] = input(\"Name:\")\n",
    "send('started',0)"
   ]
  },
  {
   "cell_type": "markdown",
   "metadata": {},
   "source": [
    "# Load the data + Exploration"
   ]
  },
  {
   "cell_type": "code",
   "execution_count": 246,
   "metadata": {
    "collapsed": true
   },
   "outputs": [],
   "source": [
    "import datetime\n",
    "from helpers import *\n",
    "\n",
    "height, weight, gender = load_data(sub_sample=False, add_outlier=False)\n",
    "x, mean_x, std_x = standardize(height)\n",
    "y, tx = build_model_data(x, weight)"
   ]
  },
  {
   "cell_type": "code",
   "execution_count": 247,
   "metadata": {},
   "outputs": [
    {
     "data": {
      "text/plain": [
       "((10000,), (10000, 2))"
      ]
     },
     "execution_count": 247,
     "metadata": {},
     "output_type": "execute_result"
    }
   ],
   "source": [
    "y.shape, tx.shape"
   ]
  },
  {
   "cell_type": "code",
   "execution_count": 248,
   "metadata": {},
   "outputs": [
    {
     "data": {
      "text/plain": [
       "array([[ 1.  ,  1.94],\n",
       "       [ 1.  ,  0.63],\n",
       "       [ 1.  ,  2.01],\n",
       "       [ 1.  ,  1.39],\n",
       "       [ 1.  ,  0.91],\n",
       "       [ 1.  ,  0.23],\n",
       "       [ 1.  ,  0.63],\n",
       "       [ 1.  ,  0.51],\n",
       "       [ 1.  ,  0.17],\n",
       "       [ 1.  , -0.76]])"
      ]
     },
     "execution_count": 248,
     "metadata": {},
     "output_type": "execute_result"
    }
   ],
   "source": [
    "tx[0:10]"
   ]
  },
  {
   "cell_type": "code",
   "execution_count": 249,
   "metadata": {},
   "outputs": [
    {
     "data": {
      "text/plain": [
       "(-0.00, 1.00)"
      ]
     },
     "execution_count": 249,
     "metadata": {},
     "output_type": "execute_result"
    }
   ],
   "source": [
    "(np.mean(tx[:,1]),np.std(tx[:,1]))"
   ]
  },
  {
   "cell_type": "markdown",
   "metadata": {},
   "source": [
    "Hessian matrix of my optimzation problem $\\frac{1}{2n}|| Xw-Y||^2$"
   ]
  },
  {
   "cell_type": "markdown",
   "metadata": {},
   "source": [
    "Gradient : $ \\frac{1}{n} X^T (Ww-Y)$"
   ]
  },
  {
   "cell_type": "markdown",
   "metadata": {},
   "source": [
    "Hessian $\\frac{1}{n} X^TX$"
   ]
  },
  {
   "cell_type": "code",
   "execution_count": 250,
   "metadata": {},
   "outputs": [
    {
     "data": {
      "text/plain": [
       "array([[ 1.00e+00, -1.28e-15],\n",
       "       [-1.28e-15,  1.00e+00]])"
      ]
     },
     "execution_count": 250,
     "metadata": {},
     "output_type": "execute_result"
    }
   ],
   "source": [
    "n_s = y.shape\n",
    "tx.T@tx/n_s"
   ]
  },
  {
   "cell_type": "markdown",
   "metadata": {},
   "source": [
    "Hessain is idendity :\n",
    "- largest eigenvalue is 1\n",
    "- smallest eigenvalue is 1\n",
    "\n",
    "Condition number $\\kappa = L/\\mu$ is 1 "
   ]
  },
  {
   "cell_type": "markdown",
   "metadata": {},
   "source": [
    "When $\\kappa=1$ for **quadratic functions** for $\\gamma=1$, GD converges in 1 step !!\n",
    "\n",
    "\n",
    "**Reason :** Newton method always converges in **one step** for quadraitcs"
   ]
  },
  {
   "cell_type": "markdown",
   "metadata": {},
   "source": [
    "#### Extension\n"
   ]
  },
  {
   "cell_type": "markdown",
   "metadata": {},
   "source": [
    "To avoid this problem, we can use a non-diagonal covariance matrix, by having 2 explanatory variables that are not independent. For example, we can use height and height^3. You can re-run the entire lab with $tx$ re-defined with those two features."
   ]
  },
  {
   "cell_type": "code",
   "execution_count": 251,
   "metadata": {},
   "outputs": [],
   "source": [
    "feature_height2 = (tx[:,1]**3)\n",
    "feature_height2 = 1/ np.std(feature_height2)*(feature_height2-np.mean(feature_height2))\n",
    "tx2 = np.concatenate((tx, (feature_height2).reshape(-1,1)), axis=1)\n",
    "tx2 = tx2[:, 1:]"
   ]
  },
  {
   "cell_type": "code",
   "execution_count": 252,
   "metadata": {
    "scrolled": true
   },
   "outputs": [
    {
     "data": {
      "text/plain": [
       "array([[1.  , 0.81],\n",
       "       [0.81, 1.  ]])"
      ]
     },
     "execution_count": 252,
     "metadata": {},
     "output_type": "execute_result"
    }
   ],
   "source": [
    "n_s = y.shape\n",
    "tx2.T@tx2/n_s\n",
    "# note that directly replacing tx by tx2 does not directly work in the following code"
   ]
  },
  {
   "cell_type": "markdown",
   "metadata": {},
   "source": [
    "This matrix has eigenvalues 1,81 and 0,19, thus a condition number of 9. We expect to have a maximal step size of 2/L, with L=1,81 thus ~1.1"
   ]
  },
  {
   "cell_type": "markdown",
   "metadata": {},
   "source": [
    "# Computing the Cost Function\n",
    "Fill in the `compute_cost` function below:"
   ]
  },
  {
   "cell_type": "code",
   "execution_count": 253,
   "metadata": {},
   "outputs": [
    {
     "data": {
      "text/plain": [
       "<Response [400]>"
      ]
     },
     "execution_count": 253,
     "metadata": {},
     "output_type": "execute_result"
    }
   ],
   "source": [
    "def calculate_mse(e):\n",
    "    \"\"\"Calculate the mse for vector e.\"\"\"\n",
    "    return 1/2*np.mean(e**2)\n",
    "\n",
    "\n",
    "def calculate_mae(e):\n",
    "    \"\"\"Calculate the mae for vector e.\"\"\"\n",
    "    return np.mean(np.abs(e))\n",
    "\n",
    "\n",
    "def compute_loss(y, tx, w):\n",
    "    \"\"\"Calculate the loss.\n",
    "\n",
    "    You can calculate the loss using mse or mae.\n",
    "    \"\"\"\n",
    "    e = y - tx.dot(w)\n",
    "    return calculate_mse(e)\n",
    "\n",
    "send(compute_loss,1)"
   ]
  },
  {
   "cell_type": "markdown",
   "metadata": {},
   "source": [
    "# Optimal solution\n",
    "In Least squares regression, we have an exact expression for the optimal value of the parameter.\n",
    "\n",
    "While with the small dataset we are using, it is possible to compute it, it requires to compute the inverse of a $d \\times d$ matrix, which is prohibitive in most high dimensionnal settings: in those situations, it is impossible to know precisely what the value at the otpimum is."
   ]
  },
  {
   "cell_type": "code",
   "execution_count": 254,
   "metadata": {},
   "outputs": [
    {
     "data": {
      "text/plain": [
       "array([73.29, 13.48])"
      ]
     },
     "execution_count": 254,
     "metadata": {},
     "output_type": "execute_result"
    }
   ],
   "source": [
    "w_star = np.linalg.inv(tx.T@tx)@(tx.T@(y))\n",
    "w_star"
   ]
  },
  {
   "cell_type": "code",
   "execution_count": 255,
   "metadata": {},
   "outputs": [
    {
     "data": {
      "text/plain": [
       "15.39"
      ]
     },
     "execution_count": 255,
     "metadata": {},
     "output_type": "execute_result"
    }
   ],
   "source": [
    "loss_at_opt = compute_loss(y,tx, w_star)\n",
    "\n",
    "% precision 2\n",
    "loss_at_opt"
   ]
  },
  {
   "cell_type": "markdown",
   "metadata": {},
   "source": [
    "The optimal loss is 15.3858878688294. It is not surprising that the loss at the optimum is not 0: on the contrary, it would be very suprising if the loss was 0: it would mean that there exist $w^*$ such that for any $i\\in \\lbrace 1, \\dots, n \\rbrace$, $y_i = w_0^*+ w_1^* x_i$: in other words, knowing the height of someone would allow to know his weight excatly.\n",
    "\n",
    "\n",
    "In the following, we will compute and plot the **excess loss** $L(w)-L(w^*)$ instead of the loss, as most theoretical results provide guarantees on the excess of loss.\n"
   ]
  },
  {
   "cell_type": "markdown",
   "metadata": {},
   "source": [
    "# Grid Search"
   ]
  },
  {
   "cell_type": "markdown",
   "metadata": {},
   "source": [
    "Fill in the function `grid_search()` below:"
   ]
  },
  {
   "cell_type": "code",
   "execution_count": 256,
   "metadata": {
    "collapsed": true
   },
   "outputs": [],
   "source": [
    "# from costs import *\n",
    "\n",
    "def grid_search(y, tx, w0, w1):\n",
    "    \"\"\"Algorithm for grid search.\"\"\"\n",
    "    loss = np.zeros((len(w0), len(w1)))\n",
    "    # compute loss for each combinationof w0 and w1.\n",
    "    for ind_row, row in enumerate(w0):\n",
    "        for ind_col, col in enumerate(w1):\n",
    "            w = np.array([row, col])\n",
    "            loss[ind_row, ind_col] = compute_loss(y, tx, w)-loss_at_opt\n",
    "    return loss"
   ]
  },
  {
   "cell_type": "markdown",
   "metadata": {},
   "source": [
    "Let us play with the grid search demo now!"
   ]
  },
  {
   "cell_type": "code",
   "execution_count": 257,
   "metadata": {
    "scrolled": true
   },
   "outputs": [
    {
     "name": "stdout",
     "output_type": "stream",
     "text": [
      "Grid Search: loss*=0.1728154997801301, w0*=72.72727272727272, w1*=13.636363636363626, execution time=0.706 seconds\n"
     ]
    },
    {
     "data": {
      "image/png": "[encoded data removed]",
      "text/plain": [
       "<Figure size 720x432 with 3 Axes>"
      ]
     },
     "metadata": {},
     "output_type": "display_data"
    }
   ],
   "source": [
    "from grid_search import generate_w, get_best_parameters\n",
    "from plots import grid_visualization\n",
    "\n",
    "# Generate the grid of parameters to be swept\n",
    "grid_w0, grid_w1 = generate_w(num_intervals=100)\n",
    "\n",
    "# Start the grid search\n",
    "start_time = datetime.datetime.now()\n",
    "grid_losses = grid_search(y, tx, grid_w0, grid_w1)\n",
    "\n",
    "# Select the best combinaison\n",
    "loss_star, w0_star, w1_star = get_best_parameters(grid_w0, grid_w1, grid_losses)\n",
    "end_time = datetime.datetime.now()\n",
    "execution_time = (end_time - start_time).total_seconds()\n",
    "\n",
    "# Print the results\n",
    "print(\"Grid Search: loss*={l}, w0*={w0}, w1*={w1}, execution time={t:.3f} seconds\".format(\n",
    "      l=loss_star, w0=w0_star, w1=w1_star, t=execution_time))\n",
    "\n",
    "# Plot the results\n",
    "fig = grid_visualization(grid_losses, grid_w0, grid_w1, mean_x, std_x, height, weight)\n",
    "fig.set_size_inches(10.0,6.0)\n",
    "fig.savefig(\"grid_plot\")  # Optional saving"
   ]
  },
  {
   "cell_type": "markdown",
   "metadata": {},
   "source": [
    "## Commentaires:\n",
    "\n",
    "- the finner the grid, the more precise the solution is. However, the computational time increases very rapidly without a large improvement in the error: the error is divided by 20 while the time is multiplied by 120 between a grid of size 10 and a 100.\n",
    "\n",
    "| Grid size| 10| 100 | 1000 |\n",
    "| --- | --- | --- |\n",
    "| Time |0.12 |0.56s   | 60s|\n",
    "| Precision |27 |0.17    | 0.007|\n",
    "\n",
    "\n",
    "- in higher dimension, the complexity would increse even more, and this method cannnot be used."
   ]
  },
  {
   "cell_type": "markdown",
   "metadata": {},
   "source": [
    "# Gradient Descent"
   ]
  },
  {
   "cell_type": "markdown",
   "metadata": {},
   "source": [
    "Again, please fill in the functions `compute_gradient` below:"
   ]
  },
  {
   "cell_type": "code",
   "execution_count": 258,
   "metadata": {},
   "outputs": [
    {
     "data": {
      "text/plain": [
       "<Response [400]>"
      ]
     },
     "execution_count": 258,
     "metadata": {},
     "output_type": "execute_result"
    }
   ],
   "source": [
    "def compute_gradient(y, tx, w):\n",
    "    \"\"\"Compute the gradient.\"\"\"\n",
    "    err = y - tx.dot(w)\n",
    "    grad = -tx.T.dot(err) / len(err)\n",
    "    return grad, err\n",
    "\n",
    "send(compute_gradient, 2)"
   ]
  },
  {
   "cell_type": "code",
   "execution_count": 259,
   "metadata": {},
   "outputs": [
    {
     "data": {
      "text/plain": [
       "(array([ 2.98e-14, -1.95e-15]),\n",
       " array([10.32, -8.06, -3.84, ..., -6.21, -8.25, -6.2 ]))"
      ]
     },
     "execution_count": 259,
     "metadata": {},
     "output_type": "execute_result"
    }
   ],
   "source": [
    "compute_gradient(y, tx, w_star)"
   ]
  },
  {
   "cell_type": "code",
   "execution_count": 260,
   "metadata": {},
   "outputs": [
    {
     "data": {
      "text/plain": [
       "(array([26.71,  6.52]),\n",
       " array([-29.06, -38.86, -43.66, ..., -28.68, -39.47, -25.41]))"
      ]
     },
     "execution_count": 260,
     "metadata": {},
     "output_type": "execute_result"
    }
   ],
   "source": [
    "compute_gradient(y,tx, [100,20])"
   ]
  },
  {
   "cell_type": "markdown",
   "metadata": {},
   "source": [
    "Please fill in the functions `gradient_descent` below:"
   ]
  },
  {
   "cell_type": "code",
   "execution_count": 261,
   "metadata": {},
   "outputs": [
    {
     "data": {
      "text/plain": [
       "<Response [400]>"
      ]
     },
     "execution_count": 261,
     "metadata": {},
     "output_type": "execute_result"
    }
   ],
   "source": [
    "def gradient_descent(y, tx, initial_w, max_iters, gamma):\n",
    "    \"\"\"Gradient descent algorithm.\"\"\"\n",
    "    # Define parameters to store w and loss\n",
    "    ws = [initial_w]\n",
    "    losses = []\n",
    "    w = initial_w\n",
    "    for n_iter in range(max_iters):\n",
    "        # compute loss, gradient\n",
    "        grad, err = compute_gradient(y, tx, w)\n",
    "        loss = calculate_mse(err)-loss_at_opt\n",
    "        # gradient w by descent update\n",
    "        w = w - gamma * grad\n",
    "        # store w and loss\n",
    "        ws.append(w)\n",
    "        losses.append(loss)\n",
    "        print(\"Gradient Descent({bi}/{ti}): loss={l}, w0={w0}, w1={w1}\".format(\n",
    "              bi=n_iter, ti=max_iters - 1, l=loss, w0=w[0], w1=w[1]))\n",
    "\n",
    "    return losses, ws\n",
    "\n",
    "send(gradient_descent, 3)"
   ]
  },
  {
   "cell_type": "markdown",
   "metadata": {},
   "source": [
    "Test your gradient descent function through gradient descent demo shown below:"
   ]
  },
  {
   "cell_type": "code",
   "execution_count": 316,
   "metadata": {
    "scrolled": false
   },
   "outputs": [
    {
     "name": "stdout",
     "output_type": "stream",
     "text": [
      "Gradient Descent(0/10): loss=2776.850824890338, w0=58.63513760168412, w1=10.783769947991162\n",
      "Gradient Descent(1/10): loss=111.07403299561417, w0=70.36216512202097, w1=12.940523937589457\n",
      "Gradient Descent(2/10): loss=4.442961319824597, w0=72.70757062608834, w1=13.371874735509127\n",
      "Gradient Descent(3/10): loss=0.1777184527929876, w0=73.17665172690182, w1=13.458144895093064\n",
      "Gradient Descent(4/10): loss=0.007108738111719859, w0=73.27046794706452, w1=13.475398927009852\n",
      "Gradient Descent(5/10): loss=0.00028434952446865225, w0=73.28923119109706, w1=13.47884973339321\n",
      "Gradient Descent(6/10): loss=1.1373980978390819e-05, w0=73.29298383990356, w1=13.47953989466988\n",
      "Gradient Descent(7/10): loss=4.5495923828298146e-07, w0=73.29373436966486, w1=13.479677926925214\n",
      "Gradient Descent(8/10): loss=1.8198369033939343e-08, w0=73.29388447561712, w1=13.479705533376281\n",
      "Gradient Descent(9/10): loss=7.279368219315074e-10, w0=73.29391449680757, w1=13.479711054666495\n",
      "Gradient Descent(10/10): loss=2.9118041311448906e-11, w0=73.29392050104566, w1=13.479712158924539\n",
      "Gradient Descent: execution time=0.009 seconds for 11 iterations\n"
     ]
    },
    {
     "data": {
      "text/plain": [
       "<Response [400]>"
      ]
     },
     "execution_count": 316,
     "metadata": {},
     "output_type": "execute_result"
    }
   ],
   "source": [
    "# from gradient_descent import *\n",
    "from plots import gradient_descent_visualization\n",
    "\n",
    "# Define the parameters of the algorithm.\n",
    "max_iters = 11\n",
    "gamma = 0.8\n",
    "\n",
    "# Initialization\n",
    "w_initial = np.array([0, 0])\n",
    "\n",
    "# Start gradient descent.\n",
    "start_time = datetime.datetime.now()\n",
    "gradient_losses, gradient_ws = gradient_descent(y, tx, w_initial, max_iters, gamma)\n",
    "end_time = datetime.datetime.now()\n",
    "\n",
    "# Print result\n",
    "exection_time = (end_time - start_time).total_seconds()\n",
    "print(\"Gradient Descent: execution time=%.3f seconds for %i iterations\" %(exection_time, max_iters))\n",
    "send(\"Gradient Descent: execution time=%.3f seconds for %i iterations\" %(exection_time, max_iters), 4)"
   ]
  },
  {
   "cell_type": "code",
   "execution_count": 317,
   "metadata": {
    "scrolled": false
   },
   "outputs": [
    {
     "data": {
      "application/vnd.jupyter.widget-view+json": {
       "model_id": "bb3c30cc5eb4491cbe2dc5c1da9ae57e",
       "version_major": 2,
       "version_minor": 0
      },
      "text/plain": [
       "A Jupyter Widget"
      ]
     },
     "metadata": {},
     "output_type": "display_data"
    },
    {
     "data": {
      "text/plain": [
       "<function __main__.plot_figure>"
      ]
     },
     "execution_count": 317,
     "metadata": {},
     "output_type": "execute_result"
    }
   ],
   "source": [
    "# Time Visualization\n",
    "from ipywidgets import IntSlider, interact\n",
    "def plot_figure(n_iter):\n",
    "    fig = gradient_descent_visualization(\n",
    "        gradient_losses, gradient_ws, grid_losses, grid_w0, grid_w1, mean_x, std_x, height, weight, n_iter)\n",
    "    fig.set_size_inches(10.0, 6.0)\n",
    "\n",
    "interact(plot_figure, n_iter=IntSlider(min=1, max=len(gradient_ws)))"
   ]
  },
  {
   "cell_type": "markdown",
   "metadata": {},
   "source": [
    "Interesting exercise: Rerun everything with height^2 as feature:\n",
    "1111111, height\n",
    "height, height^2  ---> Hessian is not identity"
   ]
  },
  {
   "cell_type": "markdown",
   "metadata": {},
   "source": [
    "**Evolution of the excess loss as a function of the number of iterations**"
   ]
  },
  {
   "cell_type": "code",
   "execution_count": 318,
   "metadata": {},
   "outputs": [
    {
     "data": {
      "text/plain": [
       "[2776.85, 111.07, 4.44, 0.18, 0.01, 0.00, 0.00, 0.00, 0.00, 0.00, 0.00]"
      ]
     },
     "execution_count": 318,
     "metadata": {},
     "output_type": "execute_result"
    }
   ],
   "source": [
    "gradient_losses"
   ]
  },
  {
   "cell_type": "code",
   "execution_count": 319,
   "metadata": {
    "scrolled": false
   },
   "outputs": [
    {
     "data": {
      "text/plain": [
       "<Response [400]>"
      ]
     },
     "execution_count": 319,
     "metadata": {},
     "output_type": "execute_result"
    },
    {
     "data": {
      "image/png": "[encoded data removed]",
      "text/plain": [
       "<Figure size 432x288 with 1 Axes>"
      ]
     },
     "metadata": {},
     "output_type": "display_data"
    }
   ],
   "source": [
    "plt.semilogy(gradient_losses)\n",
    "plt.title('Evolution of the excess loss with the number of iterations')\n",
    "plt.xlabel('number of GD iterations')\n",
    "plt.ylabel('log(L(w)-L(w^*))')\n",
    "send(plt,5)"
   ]
  },
  {
   "cell_type": "markdown",
   "metadata": {},
   "source": [
    "- step 0.1 -  slope 2/30\n",
    "- step 0.2  - slope 5/30"
   ]
  },
  {
   "cell_type": "markdown",
   "metadata": {},
   "source": [
    "rate theory give excess risk (after k iteration) $F(w_k)- F(w*) \\le ||w_0-w*||^2 (1-\\gamma \\mu)^k$\n",
    "$$log (F(w_k)- F(w*) )\\le k \\log(1-\\gamma \\mu) + log( ||w_0-w*||^2) $$"
   ]
  },
  {
   "cell_type": "markdown",
   "metadata": {},
   "source": [
    "We can make the following remarks:\n",
    "- the excess loss decays at an exponential rate, as predicted by theory:\n",
    "$$L(w_t)-L(w^*) \\le \\frac{L}{2} \\left(1-\\gamma {\\mu}\\right)^t ||w_0-w^*||^2$$\n",
    "\n",
    "- an exponential rate means that the error is **squared** when we double the number of iterations. Here for example, the excess loss is 0.0163 after 5 iterations, 9.68e-08 after 10 iterations, 3.55e-15 after 20 iterations\n",
    "\n",
    "\n",
    "- in semi-log scale, we expect to have a **linear function**: this is what we observe on the graph above\n",
    "$$\\log\\left(L(w_t)-L(w^*)\\right) \\le C -\\gamma\\mu t $$\n",
    "\n",
    "- the slope of the line should be $\\gamma \\mu$. On the graph above, we can check that the log excess loss, decays from $10^2$ to  $ 10^{-14}$ in 30 iterations, (slope -16/30) with a step size 0.5, and $\\mu=1$. The theoretical rate is verified.\n"
   ]
  },
  {
   "cell_type": "markdown",
   "metadata": {},
   "source": [
    "**Maximum step size**:\n",
    "- as predicted by theory, there exists a maximum step size: if the step size is larger than $2/L$, the GD algo diverges very quickly.\n",
    "\n",
    "- Here, it is easy to check that the smoothness of the funciton is 1, thus the maximal step size is 2: the Hessian matrix $tx.T \\times   tx$ is identity (because the data has been standardised and we have only 2 dimensions).\n",
    "\n",
    "| GD error after | 5 iterations | 10 iterations |\n",
    "|--- |---|---|---|\n",
    "|$\\gamma = 0.5$ | 2 |0.002|\n",
    "|$\\gamma = 1.5$ | 2.7| 0.002|\n",
    "|$\\gamma = 1.9$ |900 |337|\n",
    "|$\\gamma = 2$ |2776 |2776|\n",
    "|$\\gamma = 2.1$ | 7000 | 19000|\n",
    "\n",
    "- We can also notice that for a step size of 2, the error is constant: indeed, the algorithm oscillates between 2 models, that have the same loss."
   ]
  },
  {
   "cell_type": "markdown",
   "metadata": {},
   "source": [
    "**Change the step size**\n",
    "- how does the error vary with the step  size\n",
    "- what is the maximal  step size (fill the following cell  to submit your answer\n"
   ]
  },
  {
   "cell_type": "markdown",
   "metadata": {},
   "source": [
    "Max step size is 2/L = 2/1 = 2 as L is 1. "
   ]
  },
  {
   "cell_type": "code",
   "execution_count": 266,
   "metadata": {
    "scrolled": false
   },
   "outputs": [
    {
     "data": {
      "text/plain": [
       "<Response [400]>"
      ]
     },
     "execution_count": 266,
     "metadata": {},
     "output_type": "execute_result"
    }
   ],
   "source": [
    "\n",
    "send('the maximal step size is 2',6)"
   ]
  },
  {
   "cell_type": "markdown",
   "metadata": {
    "collapsed": true
   },
   "source": [
    "# Stochastic gradient descent"
   ]
  },
  {
   "cell_type": "markdown",
   "metadata": {},
   "source": [
    "Below, we implement several different strategies fr the step size sequence. An efficient one is to use (ONLY for QUADRATICS !) constants steps and averaging..."
   ]
  },
  {
   "cell_type": "code",
   "execution_count": 137,
   "metadata": {},
   "outputs": [
    {
     "data": {
      "text/plain": [
       "<Response [200]>"
      ]
     },
     "execution_count": 137,
     "metadata": {},
     "output_type": "execute_result"
    }
   ],
   "source": [
    "def compute_stoch_gradient(y, tx, w):\n",
    "    \"\"\"Compute a stochastic gradient from just few examples n and their corresponding y_n labels.\"\"\"\n",
    "    err = y - tx.dot(w)\n",
    "    grad = -tx.T.dot(err) / len(err)\n",
    "    return grad, err\n",
    "\n",
    "send(compute_stoch_gradient,7)\n",
    "\n",
    "from tqdm import tqmd \n",
    "\n",
    "def stochastic_gradient_descent(\n",
    "        y, tx, initial_w, batch_size, max_iters, gamma):\n",
    "    \"\"\"Stochastic gradient descent.\"\"\"\n",
    "    # Define parameters to store w and loss\n",
    "    ws = [initial_w]\n",
    "    losses = []\n",
    "    w = initial_w\n",
    "    \n",
    "    wave = initial_w\n",
    "     \n",
    "    \n",
    "    \n",
    "    for n_iter in tqdm(range(max_iters)):\n",
    "        for y_batch, tx_batch in batch_iter(y, tx, batch_size=batch_size, num_batches=1):\n",
    "            # compute a stochastic gradient and loss\n",
    "            grad, _ = compute_stoch_gradient(y_batch, tx_batch, w)\n",
    "            # update w through the stochastic gradient update\n",
    "            \n",
    "            w = w - gamma * grad  # CONSTANt STEP SIZE\n",
    "            \n",
    "#             w = w - gamma/np.sqrt(n_iter+1) * grad # DECAYING STEPS \n",
    "            \n",
    "            wave = n_iter/(n_iter+1)*wave+ 1/(n_iter+1)*w \n",
    "            # THEOREM this morning POLYAK RUPPERT EVRAGING\n",
    "            \n",
    "            # calculate loss\n",
    "            loss = compute_loss(y, tx, wave)-loss_at_opt\n",
    "            # store w and loss\n",
    "            ws.append(wave)\n",
    "            losses.append(loss)\n",
    "\n",
    "    print(\"SGD({bi}/{ti}): loss={l}, w0={w0}, w1={w1}\".format(\n",
    "              bi=n_iter, ti=max_iters - 1, l=loss, w0=w[0], w1=w[1]))\n",
    "    return losses, ws\n",
    "\n",
    "send(stochastic_gradient_descent, 8)"
   ]
  },
  {
   "cell_type": "code",
   "execution_count": 267,
   "metadata": {
    "scrolled": true
   },
   "outputs": [
    {
     "name": "stdout",
     "output_type": "stream",
     "text": [
      "SGD(99999/99999): loss=0.00021510993332540806, w0=71.1225466918326, w1=11.96081458639145\n",
      "SGD: execution ime=63.530 seconds for 100000 iterations\n"
     ]
    },
    {
     "data": {
      "text/plain": [
       "<Response [400]>"
      ]
     },
     "execution_count": 267,
     "metadata": {},
     "output_type": "execute_result"
    }
   ],
   "source": [
    "# from stochastic_gradient_descent import *\n",
    "\n",
    "# Define the parameters of the algorithm.\n",
    "max_iters = 100000\n",
    "gamma = 0.5\n",
    "batch_size = 1\n",
    "\n",
    "# Initialization\n",
    "w_initial = np.array([0, 0])\n",
    "\n",
    "# Start SGD.\n",
    "start_time = datetime.datetime.now()\n",
    "sgd_losses, sgd_ws = stochastic_gradient_descent(\n",
    "    y, tx, w_initial, batch_size, max_iters, gamma)\n",
    "end_time = datetime.datetime.now()\n",
    "\n",
    "# Print result\n",
    "exection_time = (end_time - start_time).total_seconds()\n",
    "print(\"SGD: execution ime=%.3f seconds for %i iterations\" %(exection_time, max_iters))\n",
    "send(\"SGD: execution ime=%.3f seconds for %i iterations\" %(exection_time, max_iters),9)"
   ]
  },
  {
   "cell_type": "markdown",
   "metadata": {},
   "source": [
    "Passes on the data after 10 000 iterations of SGD?\n",
    "- 1 \n",
    "Same theoretical complexity as GD for one step\n"
   ]
  },
  {
   "cell_type": "code",
   "execution_count": 268,
   "metadata": {},
   "outputs": [
    {
     "data": {
      "application/vnd.jupyter.widget-view+json": {
       "model_id": "fab3012135ab49dda3a567680dbba1f8",
       "version_major": 2,
       "version_minor": 0
      },
      "text/plain": [
       "A Jupyter Widget"
      ]
     },
     "metadata": {},
     "output_type": "display_data"
    },
    {
     "data": {
      "text/plain": [
       "<function __main__.plot_figure>"
      ]
     },
     "execution_count": 268,
     "metadata": {},
     "output_type": "execute_result"
    }
   ],
   "source": [
    "# Time Visualization\n",
    "from ipywidgets import IntSlider, interact\n",
    "def plot_figure(n_iter):\n",
    "    fig = gradient_descent_visualization(\n",
    "        sgd_losses, sgd_ws, grid_losses, grid_w0, grid_w1, mean_x, std_x, height, weight, n_iter)\n",
    "    fig.set_size_inches(10.0, 6.0)\n",
    "\n",
    "interact(plot_figure, n_iter=IntSlider(min=1, max=len(gradient_ws)))"
   ]
  },
  {
   "cell_type": "code",
   "execution_count": 269,
   "metadata": {
    "scrolled": true
   },
   "outputs": [
    {
     "data": {
      "text/plain": [
       "<Response [400]>"
      ]
     },
     "execution_count": 269,
     "metadata": {},
     "output_type": "execute_result"
    },
    {
     "data": {
      "image/png": "[encoded data removed]",
      "text/plain": [
       "<Figure size 432x288 with 1 Axes>"
      ]
     },
     "metadata": {},
     "output_type": "display_data"
    }
   ],
   "source": [
    "plt.semilogy(sgd_losses)\n",
    "plt.title('Evolution of the excess loss with the number of iterations')\n",
    "plt.xlabel('number of GD iterations')\n",
    "plt.ylabel('log(L(w)-L(w^*))')\n",
    "send(plt,5)"
   ]
  },
  {
   "cell_type": "markdown",
   "metadata": {},
   "source": [
    "**Comments on the algorithm:**\n",
    "- in order to improve convergence, we use decaying steps, $\\gamma_k\\varpropto 1/\\sqrt{k}$. using small step size reduces the impactof the noise in the gradients.\n",
    "\n",
    "\n",
    "- moreover, as suggested by the result in the lecture notes, we  compute the loss at the **averaged iterate**: $$\\bar w_t= \\frac{1}{t} \\sum_{i=1}^t w_i$$\n",
    "\n",
    "- this reduces the effect of the noise and improves a lot the convergence\n",
    "\n",
    "- this averaged point can be computed online: $$\\bar w_t= \\frac{t-1}{t} \\bar w_{t-1} +\\frac{1}{t} w_t$$\n",
    "\n"
   ]
  },
  {
   "cell_type": "markdown",
   "metadata": {
    "collapsed": true
   },
   "source": [
    "**Comments on the convergence of the algorithm:**\n",
    "    \n",
    "- the convergence is much slower that GD in terms of number of iterations, but each iteration only uses 1 observation, while GD uses the 10 000 observations at each step. \n",
    "    \n",
    "- in other words, the complexity of 1 step of GD is the same as the complexity of 10 000 steps of SGD\n",
    "\n",
    "- for a step size of 1, the loss is 0.003 after 10000 iterations (one epoch), while it is 600 after 1 GD step (also one pass on all gradients)\n",
    "\n"
   ]
  },
  {
   "cell_type": "markdown",
   "metadata": {},
   "source": [
    "**SGD converges much faster that GD if we want a low precision**\n",
    "\n",
    "**However, GD will reach a high precision (e.g., $10^{-15}$) faster than SGD**\n",
    "\n",
    "**In machine learning, we do not care too much about very high precision: the empirical risk minimization problem that we are solving is itself only an approximation of the unknown (true) generalization risk. SGD is thus the algorithm of choice.**"
   ]
  },
  {
   "cell_type": "markdown",
   "metadata": {},
   "source": [
    "**Questions**:\n",
    "- change the step size to a decaying sequence of step size. What choice do you recommend?\n",
    "- what modification of the final iterate would you recommend to improve convergence? \n",
    "\n",
    "- What is the complexity per iteration of GD, SGD?\n",
    "- Compare the theoretical complexity and the time required per iteration for the algorithm\n",
    "\n",
    "\n"
   ]
  },
  {
   "cell_type": "markdown",
   "metadata": {},
   "source": [
    "**Plot:**\n",
    "- Represent both your best version (choice of step size sequence) and  of SGD as a function of the theoretical complexity\n",
    "\n",
    "- Represent both your best version (choice of step size sequence) and  of SGD as a function of the time taken\n",
    "\n",
    "Try to choose the best parameters, for the axis, etc. Send us your best plot via the ``send'' below"
   ]
  },
  {
   "cell_type": "code",
   "execution_count": 54,
   "metadata": {},
   "outputs": [
    {
     "data": {
      "text/plain": [
       "<Response [200]>"
      ]
     },
     "execution_count": 54,
     "metadata": {},
     "output_type": "execute_result"
    },
    {
     "data": {
      "text/plain": [
       "<Figure size 432x288 with 0 Axes>"
      ]
     },
     "metadata": {},
     "output_type": "display_data"
    }
   ],
   "source": [
    "# Plotting errors in that cell\n",
    "\n",
    "\n",
    "\n",
    "\n",
    "# Your bert plot\n",
    "send(plt, 10)\n",
    "\n",
    "\n"
   ]
  },
  {
   "cell_type": "code",
   "execution_count": 333,
   "metadata": {},
   "outputs": [
    {
     "data": {
      "text/plain": [
       "<Response [400]>"
      ]
     },
     "execution_count": 333,
     "metadata": {},
     "output_type": "execute_result"
    },
    {
     "data": {
      "image/png": "[encoded data removed]",
      "text/plain": [
       "<Figure size 720x720 with 1 Axes>"
      ]
     },
     "metadata": {},
     "output_type": "display_data"
    }
   ],
   "source": [
    "plt.figure(figsize=(10,10))\n",
    "plt.semilogy(n_s*np.arange(0,11), gradient_losses, 'r', label='GD')\n",
    "plt.semilogy(sgd_losses, label='SGD')\n",
    "plt.legend()\n",
    "plt.title('Evolution of the excess loss with the number of passes on the data = theoretical complexity')\n",
    "plt.xlabel('number of points used iterations')\n",
    "plt.ylabel('log(L(w)-L(w^*))')\n",
    "send(plt,10)"
   ]
  },
  {
   "cell_type": "code",
   "execution_count": null,
   "metadata": {
    "collapsed": true
   },
   "outputs": [],
   "source": []
  },
  {
   "cell_type": "markdown",
   "metadata": {},
   "source": [
    "### Interpretation:\n",
    "- SGD is faster during the first iterations\n",
    "- GD is fatser and converges better for high precision"
   ]
  }
 ],
 "metadata": {
  "anaconda-cloud": {},
  "kernelspec": {
   "display_name": "Python 3",
   "language": "python",
   "name": "python3"
  },
  "language_info": {
   "codemirror_mode": {
    "name": "ipython",
    "version": 3
   },
   "file_extension": ".py",
   "mimetype": "text/x-python",
   "name": "python",
   "nbconvert_exporter": "python",
   "pygments_lexer": "ipython3",
   "version": "3.6.8"
  },
  "widgets": {
   "state": {
    "d2b2c3aea192430e81437f33ba0b0e69": {
     "views": [
      {
       "cell_index": 22
      }
     ]
    },
    "e4a6a7a70ccd42ddb112989c04f2ed3f": {
     "views": [
      {
       "cell_index": 18
      }
     ]
    }
   },
   "version": "1.2.0"
  }
 },
 "nbformat": 4,
 "nbformat_minor": 1
}
